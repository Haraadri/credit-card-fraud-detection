{
 "cells": [
  {
   "cell_type": "markdown",
   "id": "ca9734eb",
   "metadata": {},
   "source": [
    "# Fraud Detection Analysis "
   ]
  },
  {
   "cell_type": "markdown",
   "id": "16dcd73a",
   "metadata": {},
   "source": [
    "## Introduction"
   ]
  },
  {
   "cell_type": "markdown",
   "id": "16d548fb",
   "metadata": {},
   "source": [
    "This notebook provides an end-to-end analysis of a fraud detection dataset. The dataset contains anonymized credit card transactions, where each record is labeled as either fraudulent (Class = 1) or non-fraudulent (Class = 0). Our objective is to preprocess the data, explore it visually, and build a predictive model for detecting fraudulent transactions."
   ]
  },
  {
   "cell_type": "markdown",
   "id": "623d0034",
   "metadata": {},
   "source": [
    "### Importing Libraries"
   ]
  },
  {
   "cell_type": "code",
   "execution_count": 2,
   "id": "9f6658aa",
   "metadata": {},
   "outputs": [],
   "source": [
    "import numpy as np\n",
    "import pandas as pd\n",
    "import matplotlib.pyplot as plt\n",
    "import seaborn as sns\n",
    "import plotly.express as px\n",
    "from sklearn.model_selection import train_test_split\n",
    "from sklearn.linear_model import LogisticRegression\n",
    "from sklearn.metrics import accuracy_score\n",
    "import warnings\n",
    "warnings.filterwarnings('ignore')"
   ]
  },
  {
   "cell_type": "markdown",
   "id": "6340fadf",
   "metadata": {},
   "source": [
    "#### Load Dataset"
   ]
  },
  {
   "cell_type": "code",
   "execution_count": 3,
   "id": "b1b4587d",
   "metadata": {},
   "outputs": [],
   "source": [
    "data=pd.read_csv('/Users/kailash/Downloads/Credit Card Info.csv')"
   ]
  },
  {
   "cell_type": "markdown",
   "id": "99c68d5f",
   "metadata": {},
   "source": [
    "#### Display basic info "
   ]
  },
  {
   "cell_type": "code",
   "execution_count": 4,
   "id": "51f5d70f",
   "metadata": {},
   "outputs": [
    {
     "data": {
      "text/html": [
       "<div>\n",
       "<style scoped>\n",
       "    .dataframe tbody tr th:only-of-type {\n",
       "        vertical-align: middle;\n",
       "    }\n",
       "\n",
       "    .dataframe tbody tr th {\n",
       "        vertical-align: top;\n",
       "    }\n",
       "\n",
       "    .dataframe thead th {\n",
       "        text-align: right;\n",
       "    }\n",
       "</style>\n",
       "<table border=\"1\" class=\"dataframe\">\n",
       "  <thead>\n",
       "    <tr style=\"text-align: right;\">\n",
       "      <th></th>\n",
       "      <th>Time</th>\n",
       "      <th>V1</th>\n",
       "      <th>V2</th>\n",
       "      <th>V3</th>\n",
       "      <th>V4</th>\n",
       "      <th>V5</th>\n",
       "      <th>V6</th>\n",
       "      <th>V7</th>\n",
       "      <th>V8</th>\n",
       "      <th>V9</th>\n",
       "      <th>...</th>\n",
       "      <th>V21</th>\n",
       "      <th>V22</th>\n",
       "      <th>V23</th>\n",
       "      <th>V24</th>\n",
       "      <th>V25</th>\n",
       "      <th>V26</th>\n",
       "      <th>V27</th>\n",
       "      <th>V28</th>\n",
       "      <th>Amount</th>\n",
       "      <th>Class</th>\n",
       "    </tr>\n",
       "  </thead>\n",
       "  <tbody>\n",
       "    <tr>\n",
       "      <th>0</th>\n",
       "      <td>0.0</td>\n",
       "      <td>-1.359807</td>\n",
       "      <td>-0.072781</td>\n",
       "      <td>2.536347</td>\n",
       "      <td>1.378155</td>\n",
       "      <td>-0.338321</td>\n",
       "      <td>0.462388</td>\n",
       "      <td>0.239599</td>\n",
       "      <td>0.098698</td>\n",
       "      <td>0.363787</td>\n",
       "      <td>...</td>\n",
       "      <td>-0.018307</td>\n",
       "      <td>0.277838</td>\n",
       "      <td>-0.110474</td>\n",
       "      <td>0.066928</td>\n",
       "      <td>0.128539</td>\n",
       "      <td>-0.189115</td>\n",
       "      <td>0.133558</td>\n",
       "      <td>-0.021053</td>\n",
       "      <td>149.62</td>\n",
       "      <td>0</td>\n",
       "    </tr>\n",
       "    <tr>\n",
       "      <th>1</th>\n",
       "      <td>0.0</td>\n",
       "      <td>1.191857</td>\n",
       "      <td>0.266151</td>\n",
       "      <td>0.166480</td>\n",
       "      <td>0.448154</td>\n",
       "      <td>0.060018</td>\n",
       "      <td>-0.082361</td>\n",
       "      <td>-0.078803</td>\n",
       "      <td>0.085102</td>\n",
       "      <td>-0.255425</td>\n",
       "      <td>...</td>\n",
       "      <td>-0.225775</td>\n",
       "      <td>-0.638672</td>\n",
       "      <td>0.101288</td>\n",
       "      <td>-0.339846</td>\n",
       "      <td>0.167170</td>\n",
       "      <td>0.125895</td>\n",
       "      <td>-0.008983</td>\n",
       "      <td>0.014724</td>\n",
       "      <td>2.69</td>\n",
       "      <td>0</td>\n",
       "    </tr>\n",
       "    <tr>\n",
       "      <th>2</th>\n",
       "      <td>1.0</td>\n",
       "      <td>-1.358354</td>\n",
       "      <td>-1.340163</td>\n",
       "      <td>1.773209</td>\n",
       "      <td>0.379780</td>\n",
       "      <td>-0.503198</td>\n",
       "      <td>1.800499</td>\n",
       "      <td>0.791461</td>\n",
       "      <td>0.247676</td>\n",
       "      <td>-1.514654</td>\n",
       "      <td>...</td>\n",
       "      <td>0.247998</td>\n",
       "      <td>0.771679</td>\n",
       "      <td>0.909412</td>\n",
       "      <td>-0.689281</td>\n",
       "      <td>-0.327642</td>\n",
       "      <td>-0.139097</td>\n",
       "      <td>-0.055353</td>\n",
       "      <td>-0.059752</td>\n",
       "      <td>378.66</td>\n",
       "      <td>0</td>\n",
       "    </tr>\n",
       "    <tr>\n",
       "      <th>3</th>\n",
       "      <td>1.0</td>\n",
       "      <td>-0.966272</td>\n",
       "      <td>-0.185226</td>\n",
       "      <td>1.792993</td>\n",
       "      <td>-0.863291</td>\n",
       "      <td>-0.010309</td>\n",
       "      <td>1.247203</td>\n",
       "      <td>0.237609</td>\n",
       "      <td>0.377436</td>\n",
       "      <td>-1.387024</td>\n",
       "      <td>...</td>\n",
       "      <td>-0.108300</td>\n",
       "      <td>0.005274</td>\n",
       "      <td>-0.190321</td>\n",
       "      <td>-1.175575</td>\n",
       "      <td>0.647376</td>\n",
       "      <td>-0.221929</td>\n",
       "      <td>0.062723</td>\n",
       "      <td>0.061458</td>\n",
       "      <td>123.50</td>\n",
       "      <td>0</td>\n",
       "    </tr>\n",
       "    <tr>\n",
       "      <th>4</th>\n",
       "      <td>2.0</td>\n",
       "      <td>-1.158233</td>\n",
       "      <td>0.877737</td>\n",
       "      <td>1.548718</td>\n",
       "      <td>0.403034</td>\n",
       "      <td>-0.407193</td>\n",
       "      <td>0.095921</td>\n",
       "      <td>0.592941</td>\n",
       "      <td>-0.270533</td>\n",
       "      <td>0.817739</td>\n",
       "      <td>...</td>\n",
       "      <td>-0.009431</td>\n",
       "      <td>0.798278</td>\n",
       "      <td>-0.137458</td>\n",
       "      <td>0.141267</td>\n",
       "      <td>-0.206010</td>\n",
       "      <td>0.502292</td>\n",
       "      <td>0.219422</td>\n",
       "      <td>0.215153</td>\n",
       "      <td>69.99</td>\n",
       "      <td>0</td>\n",
       "    </tr>\n",
       "  </tbody>\n",
       "</table>\n",
       "<p>5 rows × 31 columns</p>\n",
       "</div>"
      ],
      "text/plain": [
       "   Time        V1        V2        V3        V4        V5        V6        V7  \\\n",
       "0   0.0 -1.359807 -0.072781  2.536347  1.378155 -0.338321  0.462388  0.239599   \n",
       "1   0.0  1.191857  0.266151  0.166480  0.448154  0.060018 -0.082361 -0.078803   \n",
       "2   1.0 -1.358354 -1.340163  1.773209  0.379780 -0.503198  1.800499  0.791461   \n",
       "3   1.0 -0.966272 -0.185226  1.792993 -0.863291 -0.010309  1.247203  0.237609   \n",
       "4   2.0 -1.158233  0.877737  1.548718  0.403034 -0.407193  0.095921  0.592941   \n",
       "\n",
       "         V8        V9  ...       V21       V22       V23       V24       V25  \\\n",
       "0  0.098698  0.363787  ... -0.018307  0.277838 -0.110474  0.066928  0.128539   \n",
       "1  0.085102 -0.255425  ... -0.225775 -0.638672  0.101288 -0.339846  0.167170   \n",
       "2  0.247676 -1.514654  ...  0.247998  0.771679  0.909412 -0.689281 -0.327642   \n",
       "3  0.377436 -1.387024  ... -0.108300  0.005274 -0.190321 -1.175575  0.647376   \n",
       "4 -0.270533  0.817739  ... -0.009431  0.798278 -0.137458  0.141267 -0.206010   \n",
       "\n",
       "        V26       V27       V28  Amount  Class  \n",
       "0 -0.189115  0.133558 -0.021053  149.62      0  \n",
       "1  0.125895 -0.008983  0.014724    2.69      0  \n",
       "2 -0.139097 -0.055353 -0.059752  378.66      0  \n",
       "3 -0.221929  0.062723  0.061458  123.50      0  \n",
       "4  0.502292  0.219422  0.215153   69.99      0  \n",
       "\n",
       "[5 rows x 31 columns]"
      ]
     },
     "execution_count": 4,
     "metadata": {},
     "output_type": "execute_result"
    }
   ],
   "source": [
    "data.head()"
   ]
  },
  {
   "cell_type": "code",
   "execution_count": 5,
   "id": "2e03b245",
   "metadata": {
    "scrolled": true
   },
   "outputs": [
    {
     "data": {
      "text/html": [
       "<div>\n",
       "<style scoped>\n",
       "    .dataframe tbody tr th:only-of-type {\n",
       "        vertical-align: middle;\n",
       "    }\n",
       "\n",
       "    .dataframe tbody tr th {\n",
       "        vertical-align: top;\n",
       "    }\n",
       "\n",
       "    .dataframe thead th {\n",
       "        text-align: right;\n",
       "    }\n",
       "</style>\n",
       "<table border=\"1\" class=\"dataframe\">\n",
       "  <thead>\n",
       "    <tr style=\"text-align: right;\">\n",
       "      <th></th>\n",
       "      <th>Time</th>\n",
       "      <th>V1</th>\n",
       "      <th>V2</th>\n",
       "      <th>V3</th>\n",
       "      <th>V4</th>\n",
       "      <th>V5</th>\n",
       "      <th>V6</th>\n",
       "      <th>V7</th>\n",
       "      <th>V8</th>\n",
       "      <th>V9</th>\n",
       "      <th>...</th>\n",
       "      <th>V21</th>\n",
       "      <th>V22</th>\n",
       "      <th>V23</th>\n",
       "      <th>V24</th>\n",
       "      <th>V25</th>\n",
       "      <th>V26</th>\n",
       "      <th>V27</th>\n",
       "      <th>V28</th>\n",
       "      <th>Amount</th>\n",
       "      <th>Class</th>\n",
       "    </tr>\n",
       "  </thead>\n",
       "  <tbody>\n",
       "    <tr>\n",
       "      <th>284802</th>\n",
       "      <td>172786.0</td>\n",
       "      <td>-11.881118</td>\n",
       "      <td>10.071785</td>\n",
       "      <td>-9.834783</td>\n",
       "      <td>-2.066656</td>\n",
       "      <td>-5.364473</td>\n",
       "      <td>-2.606837</td>\n",
       "      <td>-4.918215</td>\n",
       "      <td>7.305334</td>\n",
       "      <td>1.914428</td>\n",
       "      <td>...</td>\n",
       "      <td>0.213454</td>\n",
       "      <td>0.111864</td>\n",
       "      <td>1.014480</td>\n",
       "      <td>-0.509348</td>\n",
       "      <td>1.436807</td>\n",
       "      <td>0.250034</td>\n",
       "      <td>0.943651</td>\n",
       "      <td>0.823731</td>\n",
       "      <td>0.77</td>\n",
       "      <td>0</td>\n",
       "    </tr>\n",
       "    <tr>\n",
       "      <th>284803</th>\n",
       "      <td>172787.0</td>\n",
       "      <td>-0.732789</td>\n",
       "      <td>-0.055080</td>\n",
       "      <td>2.035030</td>\n",
       "      <td>-0.738589</td>\n",
       "      <td>0.868229</td>\n",
       "      <td>1.058415</td>\n",
       "      <td>0.024330</td>\n",
       "      <td>0.294869</td>\n",
       "      <td>0.584800</td>\n",
       "      <td>...</td>\n",
       "      <td>0.214205</td>\n",
       "      <td>0.924384</td>\n",
       "      <td>0.012463</td>\n",
       "      <td>-1.016226</td>\n",
       "      <td>-0.606624</td>\n",
       "      <td>-0.395255</td>\n",
       "      <td>0.068472</td>\n",
       "      <td>-0.053527</td>\n",
       "      <td>24.79</td>\n",
       "      <td>0</td>\n",
       "    </tr>\n",
       "    <tr>\n",
       "      <th>284804</th>\n",
       "      <td>172788.0</td>\n",
       "      <td>1.919565</td>\n",
       "      <td>-0.301254</td>\n",
       "      <td>-3.249640</td>\n",
       "      <td>-0.557828</td>\n",
       "      <td>2.630515</td>\n",
       "      <td>3.031260</td>\n",
       "      <td>-0.296827</td>\n",
       "      <td>0.708417</td>\n",
       "      <td>0.432454</td>\n",
       "      <td>...</td>\n",
       "      <td>0.232045</td>\n",
       "      <td>0.578229</td>\n",
       "      <td>-0.037501</td>\n",
       "      <td>0.640134</td>\n",
       "      <td>0.265745</td>\n",
       "      <td>-0.087371</td>\n",
       "      <td>0.004455</td>\n",
       "      <td>-0.026561</td>\n",
       "      <td>67.88</td>\n",
       "      <td>0</td>\n",
       "    </tr>\n",
       "    <tr>\n",
       "      <th>284805</th>\n",
       "      <td>172788.0</td>\n",
       "      <td>-0.240440</td>\n",
       "      <td>0.530483</td>\n",
       "      <td>0.702510</td>\n",
       "      <td>0.689799</td>\n",
       "      <td>-0.377961</td>\n",
       "      <td>0.623708</td>\n",
       "      <td>-0.686180</td>\n",
       "      <td>0.679145</td>\n",
       "      <td>0.392087</td>\n",
       "      <td>...</td>\n",
       "      <td>0.265245</td>\n",
       "      <td>0.800049</td>\n",
       "      <td>-0.163298</td>\n",
       "      <td>0.123205</td>\n",
       "      <td>-0.569159</td>\n",
       "      <td>0.546668</td>\n",
       "      <td>0.108821</td>\n",
       "      <td>0.104533</td>\n",
       "      <td>10.00</td>\n",
       "      <td>0</td>\n",
       "    </tr>\n",
       "    <tr>\n",
       "      <th>284806</th>\n",
       "      <td>172792.0</td>\n",
       "      <td>-0.533413</td>\n",
       "      <td>-0.189733</td>\n",
       "      <td>0.703337</td>\n",
       "      <td>-0.506271</td>\n",
       "      <td>-0.012546</td>\n",
       "      <td>-0.649617</td>\n",
       "      <td>1.577006</td>\n",
       "      <td>-0.414650</td>\n",
       "      <td>0.486180</td>\n",
       "      <td>...</td>\n",
       "      <td>0.261057</td>\n",
       "      <td>0.643078</td>\n",
       "      <td>0.376777</td>\n",
       "      <td>0.008797</td>\n",
       "      <td>-0.473649</td>\n",
       "      <td>-0.818267</td>\n",
       "      <td>-0.002415</td>\n",
       "      <td>0.013649</td>\n",
       "      <td>217.00</td>\n",
       "      <td>0</td>\n",
       "    </tr>\n",
       "  </tbody>\n",
       "</table>\n",
       "<p>5 rows × 31 columns</p>\n",
       "</div>"
      ],
      "text/plain": [
       "            Time         V1         V2        V3        V4        V5  \\\n",
       "284802  172786.0 -11.881118  10.071785 -9.834783 -2.066656 -5.364473   \n",
       "284803  172787.0  -0.732789  -0.055080  2.035030 -0.738589  0.868229   \n",
       "284804  172788.0   1.919565  -0.301254 -3.249640 -0.557828  2.630515   \n",
       "284805  172788.0  -0.240440   0.530483  0.702510  0.689799 -0.377961   \n",
       "284806  172792.0  -0.533413  -0.189733  0.703337 -0.506271 -0.012546   \n",
       "\n",
       "              V6        V7        V8        V9  ...       V21       V22  \\\n",
       "284802 -2.606837 -4.918215  7.305334  1.914428  ...  0.213454  0.111864   \n",
       "284803  1.058415  0.024330  0.294869  0.584800  ...  0.214205  0.924384   \n",
       "284804  3.031260 -0.296827  0.708417  0.432454  ...  0.232045  0.578229   \n",
       "284805  0.623708 -0.686180  0.679145  0.392087  ...  0.265245  0.800049   \n",
       "284806 -0.649617  1.577006 -0.414650  0.486180  ...  0.261057  0.643078   \n",
       "\n",
       "             V23       V24       V25       V26       V27       V28  Amount  \\\n",
       "284802  1.014480 -0.509348  1.436807  0.250034  0.943651  0.823731    0.77   \n",
       "284803  0.012463 -1.016226 -0.606624 -0.395255  0.068472 -0.053527   24.79   \n",
       "284804 -0.037501  0.640134  0.265745 -0.087371  0.004455 -0.026561   67.88   \n",
       "284805 -0.163298  0.123205 -0.569159  0.546668  0.108821  0.104533   10.00   \n",
       "284806  0.376777  0.008797 -0.473649 -0.818267 -0.002415  0.013649  217.00   \n",
       "\n",
       "        Class  \n",
       "284802      0  \n",
       "284803      0  \n",
       "284804      0  \n",
       "284805      0  \n",
       "284806      0  \n",
       "\n",
       "[5 rows x 31 columns]"
      ]
     },
     "execution_count": 5,
     "metadata": {},
     "output_type": "execute_result"
    }
   ],
   "source": [
    "data.tail()"
   ]
  },
  {
   "cell_type": "markdown",
   "id": "0430016f",
   "metadata": {},
   "source": [
    "#### Data Overview"
   ]
  },
  {
   "cell_type": "code",
   "execution_count": 6,
   "id": "7cbf3441",
   "metadata": {},
   "outputs": [
    {
     "name": "stdout",
     "output_type": "stream",
     "text": [
      "<class 'pandas.core.frame.DataFrame'>\n",
      "RangeIndex: 284807 entries, 0 to 284806\n",
      "Data columns (total 31 columns):\n",
      " #   Column  Non-Null Count   Dtype  \n",
      "---  ------  --------------   -----  \n",
      " 0   Time    284807 non-null  float64\n",
      " 1   V1      284807 non-null  float64\n",
      " 2   V2      284807 non-null  float64\n",
      " 3   V3      284807 non-null  float64\n",
      " 4   V4      284807 non-null  float64\n",
      " 5   V5      284807 non-null  float64\n",
      " 6   V6      284807 non-null  float64\n",
      " 7   V7      284807 non-null  float64\n",
      " 8   V8      284807 non-null  float64\n",
      " 9   V9      284807 non-null  float64\n",
      " 10  V10     284807 non-null  float64\n",
      " 11  V11     284807 non-null  float64\n",
      " 12  V12     284807 non-null  float64\n",
      " 13  V13     284807 non-null  float64\n",
      " 14  V14     284807 non-null  float64\n",
      " 15  V15     284807 non-null  float64\n",
      " 16  V16     284807 non-null  float64\n",
      " 17  V17     284807 non-null  float64\n",
      " 18  V18     284807 non-null  float64\n",
      " 19  V19     284807 non-null  float64\n",
      " 20  V20     284807 non-null  float64\n",
      " 21  V21     284807 non-null  float64\n",
      " 22  V22     284807 non-null  float64\n",
      " 23  V23     284807 non-null  float64\n",
      " 24  V24     284807 non-null  float64\n",
      " 25  V25     284807 non-null  float64\n",
      " 26  V26     284807 non-null  float64\n",
      " 27  V27     284807 non-null  float64\n",
      " 28  V28     284807 non-null  float64\n",
      " 29  Amount  284807 non-null  float64\n",
      " 30  Class   284807 non-null  int64  \n",
      "dtypes: float64(30), int64(1)\n",
      "memory usage: 67.4 MB\n"
     ]
    }
   ],
   "source": [
    "data.info()"
   ]
  },
  {
   "cell_type": "code",
   "execution_count": 7,
   "id": "eb865a23",
   "metadata": {},
   "outputs": [
    {
     "data": {
      "text/plain": [
       "Time      0\n",
       "V1        0\n",
       "V2        0\n",
       "V3        0\n",
       "V4        0\n",
       "V5        0\n",
       "V6        0\n",
       "V7        0\n",
       "V8        0\n",
       "V9        0\n",
       "V10       0\n",
       "V11       0\n",
       "V12       0\n",
       "V13       0\n",
       "V14       0\n",
       "V15       0\n",
       "V16       0\n",
       "V17       0\n",
       "V18       0\n",
       "V19       0\n",
       "V20       0\n",
       "V21       0\n",
       "V22       0\n",
       "V23       0\n",
       "V24       0\n",
       "V25       0\n",
       "V26       0\n",
       "V27       0\n",
       "V28       0\n",
       "Amount    0\n",
       "Class     0\n",
       "dtype: int64"
      ]
     },
     "execution_count": 7,
     "metadata": {},
     "output_type": "execute_result"
    }
   ],
   "source": [
    "data.isnull().sum()"
   ]
  },
  {
   "cell_type": "markdown",
   "id": "a0054077",
   "metadata": {},
   "source": [
    "## Exploratory Data Analysis (EDA)"
   ]
  },
  {
   "cell_type": "markdown",
   "id": "de8cdc54",
   "metadata": {},
   "source": [
    "#### Class Distribution"
   ]
  },
  {
   "cell_type": "code",
   "execution_count": 9,
   "id": "5798fe0d",
   "metadata": {},
   "outputs": [
    {
     "data": {
      "image/png": "[encoded data removed]",
      "text/plain": [
       "<Figure size 600x400 with 1 Axes>"
      ]
     },
     "metadata": {},
     "output_type": "display_data"
    }
   ],
   "source": [
    "plt.figure(figsize=(6, 4))\n",
    "sns.countplot(data=data, x='Class', palette='Set2')\n",
    "plt.title('Fraud vs Non-Fraud Transactions', fontsize=14)\n",
    "plt.xlabel('Class (0: Non-Fraud, 1: Fraud)', fontsize=12)\n",
    "plt.ylabel('Count', fontsize=12)\n",
    "plt.xticks(fontsize=10)\n",
    "plt.yticks(fontsize=10)\n",
    "plt.show()"
   ]
  },
  {
   "cell_type": "markdown",
   "id": "5b2d6f8b",
   "metadata": {},
   "source": [
    "#### Transaction Amount Distribution"
   ]
  },
  {
   "cell_type": "code",
   "execution_count": 10,
   "id": "390cf4d2",
   "metadata": {},
   "outputs": [
    {
     "data": {
      "image/png": "[encoded data removed]",
      "text/plain": [
       "<Figure size 800x600 with 1 Axes>"
      ]
     },
     "metadata": {},
     "output_type": "display_data"
    }
   ],
   "source": [
    "plt.figure(figsize=(8, 6))\n",
    "sns.histplot(data=data, x='Amount', hue='Class', multiple='stack', palette='Set2', bins=50)\n",
    "plt.title('Transaction Amount Distribution by Class', fontsize=14)\n",
    "plt.xlabel('Transaction Amount', fontsize=12)\n",
    "plt.ylabel('Count', fontsize=12)\n",
    "plt.xticks(fontsize=10)\n",
    "plt.yticks(fontsize=10)\n",
    "plt.legend(title='Class', labels=['Non-Fraud', 'Fraud'], fontsize=10)\n",
    "plt.tight_layout()  # Adjust layout to prevent overlaps\n",
    "plt.show()"
   ]
  },
  {
   "cell_type": "markdown",
   "id": "a3216d91",
   "metadata": {},
   "source": [
    "#### Time vs Transaction Amount"
   ]
  },
  {
   "cell_type": "code",
   "execution_count": 12,
   "id": "3e83dcc5",
   "metadata": {},
   "outputs": [
    {
     "data": {
      "image/png": "[encoded data removed]",
      "text/plain": [
       "<Figure size 1000x600 with 1 Axes>"
      ]
     },
     "metadata": {},
     "output_type": "display_data"
    }
   ],
   "source": [
    "plt.figure(figsize=(10, 6))\n",
    "sns.scatterplot(data=data, x='Time', y='Amount', hue='Class', palette='Set1')\n",
    "plt.title('Time vs Transaction Amount')\n",
    "plt.xlabel('Time (seconds)')\n",
    "plt.ylabel('Transaction Amount')\n",
    "plt.show()"
   ]
  },
  {
   "cell_type": "markdown",
   "id": "d5a5caea",
   "metadata": {},
   "source": [
    "#### Transaction Amount by Class"
   ]
  },
  {
   "cell_type": "code",
   "execution_count": 13,
   "id": "4e682fba",
   "metadata": {},
   "outputs": [
    {
     "data": {
      "image/png": "[encoded data removed]",
      "text/plain": [
       "<Figure size 800x600 with 1 Axes>"
      ]
     },
     "metadata": {},
     "output_type": "display_data"
    }
   ],
   "source": [
    "plt.figure(figsize=(8, 6))\n",
    "sns.boxplot(data=data, x='Class', y='Amount', palette='Set3')\n",
    "plt.title('Transaction Amount by Class (Fraud vs Non-Fraud)')\n",
    "plt.xlabel('Class')\n",
    "plt.ylabel('Transaction Amount')\n",
    "plt.show()"
   ]
  },
  {
   "cell_type": "markdown",
   "id": "28218ec6",
   "metadata": {},
   "source": [
    "#### Fraud Transactions Over Time"
   ]
  },
  {
   "cell_type": "code",
   "execution_count": 16,
   "id": "274a6141",
   "metadata": {},
   "outputs": [
    {
     "data": {
      "application/vnd.plotly.v1+json": {
       "config": {
        "plotlyServerURL": "https://plot.ly"
       },
       "data": [
        {
         "hovertemplate": "Time (seconds)=%{x}<br>Transaction Amount=%{y}<extra></extra>",
         "legendgroup": "",
         "marker": {
          "color": "red",
          "opacity": 0.7,
          "size": 5,
          "symbol": "circle"
         },
         "mode": "markers",
         "name": "",
         "orientation": "v",
         "showlegend": false,
         "type": "scatter",
         "x": [
          406,
          472,
          4462,
          6986,
          7519,
          7526,
          7535,
          7543,
          7551,
          7610,
          7672,
          7740,
          7891,
          8090,
          8169,
          8408,
          8415,
          8451,
          8528,
          8614,
          8757,
          8808,
          8878,
          8886,
          9064,
          11080,
          11092,
          11131,
          11629,
          11635,
          12093,
          12095,
          12393,
          12597,
          13126,
          13323,
          14073,
          14152,
          15817,
          17187,
          17220,
          17230,
          17520,
          17838,
          18088,
          18399,
          18675,
          18690,
          19762,
          20011,
          20332,
          20451,
          20931,
          21046,
          21419,
          21662,
          25095,
          25198,
          25231,
          25254,
          25426,
          26523,
          26556,
          26585,
          26833,
          26863,
          26899,
          26931,
          26961,
          27163,
          27187,
          27219,
          27252,
          27784,
          28143,
          28242,
          28625,
          28658,
          28692,
          28726,
          28755,
          29526,
          29531,
          29753,
          29785,
          30852,
          32686,
          32745,
          34256,
          34521,
          34634,
          34684,
          34687,
          35585,
          35771,
          35866,
          35899,
          35906,
          35926,
          35942,
          35953,
          36170,
          37167,
          39729,
          40086,
          40276,
          40662,
          40742,
          40892,
          40918,
          40919,
          41116,
          41138,
          41147,
          41164,
          41170,
          41181,
          41194,
          41203,
          41204,
          41227,
          41233,
          41237,
          41243,
          41273,
          41285,
          41305,
          41308,
          41313,
          41353,
          41397,
          41413,
          41505,
          41582,
          41607,
          41646,
          41743,
          41791,
          41851,
          41870,
          41991,
          42247,
          42474,
          42985,
          42988,
          43028,
          43369,
          43494,
          44393,
          44532,
          45463,
          45501,
          45541,
          46057,
          46149,
          46925,
          47545,
          47826,
          47923,
          47982,
          48380,
          48533,
          48884,
          49985,
          50706,
          50808,
          51112,
          51135,
          51155,
          52814,
          52934,
          53031,
          53076,
          53451,
          53658,
          53727,
          53937,
          54846,
          55279,
          55311,
          55614,
          55618,
          55760,
          56098,
          56624,
          56650,
          56806,
          56887,
          57007,
          57027,
          57163,
          58060,
          58067,
          58199,
          58217,
          58222,
          58642,
          58822,
          59011,
          59385,
          59669,
          59777,
          59840,
          60353,
          61108,
          61646,
          62059,
          62080,
          62330,
          62341,
          62467,
          63578,
          64093,
          64412,
          64443,
          64585,
          64785,
          65358,
          65385,
          65728,
          65936,
          66037,
          67150,
          67571,
          67857,
          68207,
          68207,
          68207,
          68207,
          68207,
          68207,
          68357,
          69394,
          70071,
          70229,
          70270,
          70536,
          70828,
          71033,
          72327,
          72824,
          73408,
          74159,
          74262,
          75033,
          75556,
          75581,
          75851,
          75978,
          76575,
          76826,
          76845,
          76857,
          76867,
          76876,
          77154,
          77171,
          77182,
          77202,
          77627,
          78725,
          79540,
          81372,
          82289,
          83934,
          84204,
          84204,
          84204,
          84204,
          84694,
          84789,
          85181,
          85285,
          85285,
          85285,
          85285,
          85573,
          85576,
          85864,
          85867,
          86376,
          87202,
          87883,
          88672,
          88737,
          90676,
          91075,
          91407,
          91502,
          91524,
          91554,
          92092,
          92102,
          93742,
          93823,
          93824,
          93834,
          93853,
          93853,
          93853,
          93853,
          93856,
          93860,
          93860,
          93860,
          93860,
          93879,
          93879,
          93879,
          93879,
          93888,
          93897,
          93904,
          93920,
          93965,
          94141,
          94362,
          94362,
          94362,
          94362,
          94364,
          94625,
          94952,
          95559,
          95628,
          96135,
          96291,
          96717,
          97121,
          97235,
          100223,
          100298,
          100501,
          100924,
          101051,
          101313,
          101597,
          102114,
          102318,
          102480,
          102489,
          102542,
          102572,
          102619,
          102622,
          102625,
          102669,
          102671,
          102676,
          103808,
          109297,
          109298,
          110087,
          110547,
          110552,
          110617,
          115691,
          116067,
          118532,
          118603,
          121238,
          122608,
          123078,
          123525,
          125200,
          125612,
          125658,
          126219,
          128471,
          128519,
          128595,
          128803,
          129095,
          129186,
          129222,
          129308,
          129371,
          129668,
          129741,
          129764,
          129808,
          131024,
          132086,
          132688,
          133184,
          133731,
          133958,
          134766,
          134769,
          134928,
          135095,
          135102,
          135314,
          137211,
          138894,
          138942,
          139107,
          139117,
          139767,
          139816,
          139951,
          140293,
          140308,
          141320,
          141565,
          141925,
          142280,
          142394,
          142409,
          142840,
          142961,
          143354,
          143434,
          143438,
          143456,
          144808,
          144839,
          146022,
          146026,
          146179,
          146344,
          146998,
          147501,
          148028,
          148053,
          148053,
          148074,
          148468,
          148476,
          148479,
          149096,
          149236,
          149582,
          149640,
          149676,
          150138,
          150139,
          150494,
          150949,
          151029,
          151916,
          151972,
          152036,
          152058,
          152098,
          152165,
          152307,
          152710,
          152802,
          153653,
          153761,
          153875,
          154181,
          154278,
          154309,
          154493,
          154599,
          154657,
          155054,
          155359,
          155535,
          155542,
          155548,
          155554,
          155662,
          155965,
          156685,
          156710,
          157207,
          157284,
          158638,
          159844,
          160034,
          160243,
          160537,
          160665,
          160791,
          160870,
          160895,
          161154,
          163181,
          165132,
          165981,
          166028,
          166831,
          166883,
          167338,
          169142,
          169347,
          169351,
          169966,
          170348
         ],
         "xaxis": "x",
         "y": [
          0,
          529,
          239.93,
          59,
          1,
          1,
          1,
          1,
          1,
          1,
          1,
          1,
          1,
          1,
          1,
          1,
          1,
          1,
          1,
          1,
          1,
          1.1,
          1,
          1,
          1809.68,
          1,
          1,
          1,
          1,
          1,
          0,
          30.39,
          179.66,
          1,
          1,
          1,
          1,
          1,
          11.39,
          3.79,
          3.79,
          3.93,
          1,
          766.36,
          1218.89,
          1,
          188.78,
          1,
          1,
          1,
          1,
          1,
          1,
          1,
          1,
          1,
          3.12,
          99.99,
          99.99,
          99.99,
          3.76,
          99.99,
          99.99,
          99.99,
          99.99,
          99.99,
          99.99,
          99.99,
          99.99,
          99.99,
          99.99,
          99.99,
          99.99,
          23.36,
          99.99,
          730.86,
          99.99,
          99.99,
          99.99,
          99.99,
          99.99,
          0.68,
          0.68,
          0.68,
          30.3,
          104.81,
          0,
          717.15,
          19.02,
          1.52,
          18.96,
          125.3,
          19.02,
          0.76,
          60.6,
          7.61,
          1,
          9.13,
          4.56,
          14.46,
          111.7,
          111.7,
          12.31,
          776.83,
          1,
          1,
          1,
          1,
          0.76,
          0.76,
          112.33,
          3.79,
          340.11,
          88.23,
          5.3,
          83.38,
          11.38,
          1.52,
          88.23,
          30.26,
          459.07,
          0,
          118.3,
          45.49,
          173.07,
          37.32,
          59.68,
          0.76,
          9.99,
          34.12,
          273.01,
          106.55,
          364.19,
          39.45,
          53.95,
          172.32,
          802.52,
          99.99,
          139.9,
          1,
          1,
          1,
          1,
          1,
          648,
          204.27,
          88,
          24.9,
          1,
          1,
          1,
          105.99,
          1,
          1,
          1,
          1,
          0.76,
          7.58,
          0.76,
          0.76,
          208.58,
          1,
          19.73,
          360,
          99.99,
          99.99,
          99.99,
          99.99,
          99.99,
          519.9,
          0.76,
          0.76,
          1.18,
          8,
          0,
          112.45,
          261.87,
          1.79,
          1,
          0.83,
          0.83,
          130.44,
          311.91,
          170.92,
          153.46,
          7.52,
          1,
          5,
          0.01,
          444.17,
          1,
          1,
          1,
          1.75,
          5.09,
          270,
          113.92,
          45.64,
          1389.56,
          18.98,
          6.27,
          319.2,
          5.91,
          454.82,
          101.5,
          19.04,
          6.62,
          180,
          1,
          1.1,
          1402.16,
          290.18,
          294.9,
          1,
          0,
          0,
          720.38,
          31.91,
          1354.25,
          98.01,
          101.5,
          7.53,
          489.71,
          549.06,
          320,
          1,
          1,
          1,
          1,
          1,
          1,
          19.59,
          1,
          227.3,
          3.79,
          318.11,
          824.83,
          0.76,
          426.4,
          238.9,
          45.03,
          16.48,
          76.94,
          311.28,
          30.14,
          29.95,
          124.53,
          99.85,
          99.9,
          219.8,
          254.76,
          1,
          1,
          1,
          1,
          129,
          1,
          1,
          1,
          106.9,
          60,
          0.2,
          7.57,
          1,
          1,
          0,
          0,
          512.25,
          512.25,
          12.31,
          354.33,
          2,
          0,
          0,
          252.92,
          252.92,
          1,
          240.77,
          1,
          310.42,
          323.77,
          451.27,
          829.41,
          1.18,
          9.21,
          6.99,
          38.76,
          52.69,
          1,
          1,
          261.22,
          18,
          600.73,
          1,
          75.86,
          8.54,
          0.01,
          44.9,
          44.9,
          316.06,
          316.06,
          209.65,
          78,
          78,
          188.52,
          188.52,
          30.31,
          30.31,
          104.03,
          104.03,
          1,
          1,
          37.93,
          97,
          11.4,
          45.48,
          1,
          1,
          1,
          1,
          1,
          33.76,
          571.48,
          1.63,
          1.63,
          18.96,
          33.59,
          1,
          8.64,
          9.82,
          2.28,
          1,
          0.76,
          1,
          0.92,
          2.28,
          147.87,
          0,
          22.04,
          0,
          104,
          2.28,
          0.01,
          1,
          346.94,
          7.59,
          0,
          0,
          119.74,
          2.27,
          0,
          186.13,
          1,
          0.76,
          80.22,
          635.1,
          17.06,
          65,
          105.89,
          105.89,
          144.62,
          2125.87,
          11,
          45.51,
          40,
          3.22,
          0,
          25,
          67.9,
          93.35,
          1,
          175.9,
          720.8,
          7.18,
          4.87,
          80.9,
          0,
          2,
          1,
          362.55,
          276.17,
          723.21,
          480.72,
          1,
          1335,
          0,
          130.21,
          1,
          925.31,
          0,
          345,
          108.51,
          84.28,
          39.45,
          0.01,
          727.91,
          22.47,
          8.3,
          120.54,
          0.69,
          723.21,
          0.77,
          592.9,
          195.66,
          4.49,
          0.76,
          324.59,
          320.01,
          2,
          144.8,
          0,
          1,
          1,
          8.9,
          1,
          667.55,
          0,
          1.18,
          2.22,
          0.77,
          94.82,
          8,
          996.27,
          0,
          1.59,
          1.59,
          0,
          0.76,
          0.76,
          122.68,
          0,
          1,
          1.1,
          2,
          17.39,
          50,
          237.26,
          1,
          9.29,
          10.7,
          0.01,
          57.73,
          1,
          1,
          1,
          1,
          1,
          2.47,
          357.95,
          247.86,
          51.37,
          0,
          0.76,
          1504.93,
          1096.99,
          35,
          6.74,
          0.77,
          0.77,
          0.77,
          3.9,
          3.14,
          7.06,
          94.82,
          0.77,
          0.77,
          187.11,
          7.59,
          4.97,
          0.77,
          296,
          45.51,
          4.9,
          156,
          4.69,
          0.77,
          1,
          0.77,
          127.14,
          0.38,
          39.98,
          12.31,
          0,
          39.9,
          634.3,
          19.95,
          349.08,
          390,
          0.76,
          77.89,
          245,
          42.53
         ],
         "yaxis": "y"
        }
       ],
       "layout": {
        "legend": {
         "tracegroupgap": 0
        },
        "template": {
         "data": {
          "bar": [
           {
            "error_x": {
             "color": "#2a3f5f"
            },
            "error_y": {
             "color": "#2a3f5f"
            },
            "marker": {
             "line": {
              "color": "#E5ECF6",
              "width": 0.5
             },
             "pattern": {
              "fillmode": "overlay",
              "size": 10,
              "solidity": 0.2
             }
            },
            "type": "bar"
           }
          ],
          "barpolar": [
           {
            "marker": {
             "line": {
              "color": "#E5ECF6",
              "width": 0.5
             },
             "pattern": {
              "fillmode": "overlay",
              "size": 10,
              "solidity": 0.2
             }
            },
            "type": "barpolar"
           }
          ],
          "carpet": [
           {
            "aaxis": {
             "endlinecolor": "#2a3f5f",
             "gridcolor": "white",
             "linecolor": "white",
             "minorgridcolor": "white",
             "startlinecolor": "#2a3f5f"
            },
            "baxis": {
             "endlinecolor": "#2a3f5f",
             "gridcolor": "white",
             "linecolor": "white",
             "minorgridcolor": "white",
             "startlinecolor": "#2a3f5f"
            },
            "type": "carpet"
           }
          ],
          "choropleth": [
           {
            "colorbar": {
             "outlinewidth": 0,
             "ticks": ""
            },
            "type": "choropleth"
           }
          ],
          "contour": [
           {
            "colorbar": {
             "outlinewidth": 0,
             "ticks": ""
            },
            "colorscale": [
             [
              0,
              "#0d0887"
             ],
             [
              0.1111111111111111,
              "#46039f"
             ],
             [
              0.2222222222222222,
              "#7201a8"
             ],
             [
              0.3333333333333333,
              "#9c179e"
             ],
             [
              0.4444444444444444,
              "#bd3786"
             ],
             [
              0.5555555555555556,
              "#d8576b"
             ],
             [
              0.6666666666666666,
              "#ed7953"
             ],
             [
              0.7777777777777778,
              "#fb9f3a"
             ],
             [
              0.8888888888888888,
              "#fdca26"
             ],
             [
              1,
              "#f0f921"
             ]
            ],
            "type": "contour"
           }
          ],
          "contourcarpet": [
           {
            "colorbar": {
             "outlinewidth": 0,
             "ticks": ""
            },
            "type": "contourcarpet"
           }
          ],
          "heatmap": [
           {
            "colorbar": {
             "outlinewidth": 0,
             "ticks": ""
            },
            "colorscale": [
             [
              0,
              "#0d0887"
             ],
             [
              0.1111111111111111,
              "#46039f"
             ],
             [
              0.2222222222222222,
              "#7201a8"
             ],
             [
              0.3333333333333333,
              "#9c179e"
             ],
             [
              0.4444444444444444,
              "#bd3786"
             ],
             [
              0.5555555555555556,
              "#d8576b"
             ],
             [
              0.6666666666666666,
              "#ed7953"
             ],
             [
              0.7777777777777778,
              "#fb9f3a"
             ],
             [
              0.8888888888888888,
              "#fdca26"
             ],
             [
              1,
              "#f0f921"
             ]
            ],
            "type": "heatmap"
           }
          ],
          "heatmapgl": [
           {
            "colorbar": {
             "outlinewidth": 0,
             "ticks": ""
            },
            "colorscale": [
             [
              0,
              "#0d0887"
             ],
             [
              0.1111111111111111,
              "#46039f"
             ],
             [
              0.2222222222222222,
              "#7201a8"
             ],
             [
              0.3333333333333333,
              "#9c179e"
             ],
             [
              0.4444444444444444,
              "#bd3786"
             ],
             [
              0.5555555555555556,
              "#d8576b"
             ],
             [
              0.6666666666666666,
              "#ed7953"
             ],
             [
              0.7777777777777778,
              "#fb9f3a"
             ],
             [
              0.8888888888888888,
              "#fdca26"
             ],
             [
              1,
              "#f0f921"
             ]
            ],
            "type": "heatmapgl"
           }
          ],
          "histogram": [
           {
            "marker": {
             "pattern": {
              "fillmode": "overlay",
              "size": 10,
              "solidity": 0.2
             }
            },
            "type": "histogram"
           }
          ],
          "histogram2d": [
           {
            "colorbar": {
             "outlinewidth": 0,
             "ticks": ""
            },
            "colorscale": [
             [
              0,
              "#0d0887"
             ],
             [
              0.1111111111111111,
              "#46039f"
             ],
             [
              0.2222222222222222,
              "#7201a8"
             ],
             [
              0.3333333333333333,
              "#9c179e"
             ],
             [
              0.4444444444444444,
              "#bd3786"
             ],
             [
              0.5555555555555556,
              "#d8576b"
             ],
             [
              0.6666666666666666,
              "#ed7953"
             ],
             [
              0.7777777777777778,
              "#fb9f3a"
             ],
             [
              0.8888888888888888,
              "#fdca26"
             ],
             [
              1,
              "#f0f921"
             ]
            ],
            "type": "histogram2d"
           }
          ],
          "histogram2dcontour": [
           {
            "colorbar": {
             "outlinewidth": 0,
             "ticks": ""
            },
            "colorscale": [
             [
              0,
              "#0d0887"
             ],
             [
              0.1111111111111111,
              "#46039f"
             ],
             [
              0.2222222222222222,
              "#7201a8"
             ],
             [
              0.3333333333333333,
              "#9c179e"
             ],
             [
              0.4444444444444444,
              "#bd3786"
             ],
             [
              0.5555555555555556,
              "#d8576b"
             ],
             [
              0.6666666666666666,
              "#ed7953"
             ],
             [
              0.7777777777777778,
              "#fb9f3a"
             ],
             [
              0.8888888888888888,
              "#fdca26"
             ],
             [
              1,
              "#f0f921"
             ]
            ],
            "type": "histogram2dcontour"
           }
          ],
          "mesh3d": [
           {
            "colorbar": {
             "outlinewidth": 0,
             "ticks": ""
            },
            "type": "mesh3d"
           }
          ],
          "parcoords": [
           {
            "line": {
             "colorbar": {
              "outlinewidth": 0,
              "ticks": ""
             }
            },
            "type": "parcoords"
           }
          ],
          "pie": [
           {
            "automargin": true,
            "type": "pie"
           }
          ],
          "scatter": [
           {
            "fillpattern": {
             "fillmode": "overlay",
             "size": 10,
             "solidity": 0.2
            },
            "type": "scatter"
           }
          ],
          "scatter3d": [
           {
            "line": {
             "colorbar": {
              "outlinewidth": 0,
              "ticks": ""
             }
            },
            "marker": {
             "colorbar": {
              "outlinewidth": 0,
              "ticks": ""
             }
            },
            "type": "scatter3d"
           }
          ],
          "scattercarpet": [
           {
            "marker": {
             "colorbar": {
              "outlinewidth": 0,
              "ticks": ""
             }
            },
            "type": "scattercarpet"
           }
          ],
          "scattergeo": [
           {
            "marker": {
             "colorbar": {
              "outlinewidth": 0,
              "ticks": ""
             }
            },
            "type": "scattergeo"
           }
          ],
          "scattergl": [
           {
            "marker": {
             "colorbar": {
              "outlinewidth": 0,
              "ticks": ""
             }
            },
            "type": "scattergl"
           }
          ],
          "scattermapbox": [
           {
            "marker": {
             "colorbar": {
              "outlinewidth": 0,
              "ticks": ""
             }
            },
            "type": "scattermapbox"
           }
          ],
          "scatterpolar": [
           {
            "marker": {
             "colorbar": {
              "outlinewidth": 0,
              "ticks": ""
             }
            },
            "type": "scatterpolar"
           }
          ],
          "scatterpolargl": [
           {
            "marker": {
             "colorbar": {
              "outlinewidth": 0,
              "ticks": ""
             }
            },
            "type": "scatterpolargl"
           }
          ],
          "scatterternary": [
           {
            "marker": {
             "colorbar": {
              "outlinewidth": 0,
              "ticks": ""
             }
            },
            "type": "scatterternary"
           }
          ],
          "surface": [
           {
            "colorbar": {
             "outlinewidth": 0,
             "ticks": ""
            },
            "colorscale": [
             [
              0,
              "#0d0887"
             ],
             [
              0.1111111111111111,
              "#46039f"
             ],
             [
              0.2222222222222222,
              "#7201a8"
             ],
             [
              0.3333333333333333,
              "#9c179e"
             ],
             [
              0.4444444444444444,
              "#bd3786"
             ],
             [
              0.5555555555555556,
              "#d8576b"
             ],
             [
              0.6666666666666666,
              "#ed7953"
             ],
             [
              0.7777777777777778,
              "#fb9f3a"
             ],
             [
              0.8888888888888888,
              "#fdca26"
             ],
             [
              1,
              "#f0f921"
             ]
            ],
            "type": "surface"
           }
          ],
          "table": [
           {
            "cells": {
             "fill": {
              "color": "#EBF0F8"
             },
             "line": {
              "color": "white"
             }
            },
            "header": {
             "fill": {
              "color": "#C8D4E3"
             },
             "line": {
              "color": "white"
             }
            },
            "type": "table"
           }
          ]
         },
         "layout": {
          "annotationdefaults": {
           "arrowcolor": "#2a3f5f",
           "arrowhead": 0,
           "arrowwidth": 1
          },
          "autotypenumbers": "strict",
          "coloraxis": {
           "colorbar": {
            "outlinewidth": 0,
            "ticks": ""
           }
          },
          "colorscale": {
           "diverging": [
            [
             0,
             "#8e0152"
            ],
            [
             0.1,
             "#c51b7d"
            ],
            [
             0.2,
             "#de77ae"
            ],
            [
             0.3,
             "#f1b6da"
            ],
            [
             0.4,
             "#fde0ef"
            ],
            [
             0.5,
             "#f7f7f7"
            ],
            [
             0.6,
             "#e6f5d0"
            ],
            [
             0.7,
             "#b8e186"
            ],
            [
             0.8,
             "#7fbc41"
            ],
            [
             0.9,
             "#4d9221"
            ],
            [
             1,
             "#276419"
            ]
           ],
           "sequential": [
            [
             0,
             "#0d0887"
            ],
            [
             0.1111111111111111,
             "#46039f"
            ],
            [
             0.2222222222222222,
             "#7201a8"
            ],
            [
             0.3333333333333333,
             "#9c179e"
            ],
            [
             0.4444444444444444,
             "#bd3786"
            ],
            [
             0.5555555555555556,
             "#d8576b"
            ],
            [
             0.6666666666666666,
             "#ed7953"
            ],
            [
             0.7777777777777778,
             "#fb9f3a"
            ],
            [
             0.8888888888888888,
             "#fdca26"
            ],
            [
             1,
             "#f0f921"
            ]
           ],
           "sequentialminus": [
            [
             0,
             "#0d0887"
            ],
            [
             0.1111111111111111,
             "#46039f"
            ],
            [
             0.2222222222222222,
             "#7201a8"
            ],
            [
             0.3333333333333333,
             "#9c179e"
            ],
            [
             0.4444444444444444,
             "#bd3786"
            ],
            [
             0.5555555555555556,
             "#d8576b"
            ],
            [
             0.6666666666666666,
             "#ed7953"
            ],
            [
             0.7777777777777778,
             "#fb9f3a"
            ],
            [
             0.8888888888888888,
             "#fdca26"
            ],
            [
             1,
             "#f0f921"
            ]
           ]
          },
          "colorway": [
           "#636efa",
           "#EF553B",
           "#00cc96",
           "#ab63fa",
           "#FFA15A",
           "#19d3f3",
           "#FF6692",
           "#B6E880",
           "#FF97FF",
           "#FECB52"
          ],
          "font": {
           "color": "#2a3f5f"
          },
          "geo": {
           "bgcolor": "white",
           "lakecolor": "white",
           "landcolor": "#E5ECF6",
           "showlakes": true,
           "showland": true,
           "subunitcolor": "white"
          },
          "hoverlabel": {
           "align": "left"
          },
          "hovermode": "closest",
          "mapbox": {
           "style": "light"
          },
          "paper_bgcolor": "white",
          "plot_bgcolor": "#E5ECF6",
          "polar": {
           "angularaxis": {
            "gridcolor": "white",
            "linecolor": "white",
            "ticks": ""
           },
           "bgcolor": "#E5ECF6",
           "radialaxis": {
            "gridcolor": "white",
            "linecolor": "white",
            "ticks": ""
           }
          },
          "scene": {
           "xaxis": {
            "backgroundcolor": "#E5ECF6",
            "gridcolor": "white",
            "gridwidth": 2,
            "linecolor": "white",
            "showbackground": true,
            "ticks": "",
            "zerolinecolor": "white"
           },
           "yaxis": {
            "backgroundcolor": "#E5ECF6",
            "gridcolor": "white",
            "gridwidth": 2,
            "linecolor": "white",
            "showbackground": true,
            "ticks": "",
            "zerolinecolor": "white"
           },
           "zaxis": {
            "backgroundcolor": "#E5ECF6",
            "gridcolor": "white",
            "gridwidth": 2,
            "linecolor": "white",
            "showbackground": true,
            "ticks": "",
            "zerolinecolor": "white"
           }
          },
          "shapedefaults": {
           "line": {
            "color": "#2a3f5f"
           }
          },
          "ternary": {
           "aaxis": {
            "gridcolor": "white",
            "linecolor": "white",
            "ticks": ""
           },
           "baxis": {
            "gridcolor": "white",
            "linecolor": "white",
            "ticks": ""
           },
           "bgcolor": "#E5ECF6",
           "caxis": {
            "gridcolor": "white",
            "linecolor": "white",
            "ticks": ""
           }
          },
          "title": {
           "x": 0.05
          },
          "xaxis": {
           "automargin": true,
           "gridcolor": "white",
           "linecolor": "white",
           "ticks": "",
           "title": {
            "standoff": 15
           },
           "zerolinecolor": "white",
           "zerolinewidth": 2
          },
          "yaxis": {
           "automargin": true,
           "gridcolor": "white",
           "linecolor": "white",
           "ticks": "",
           "title": {
            "standoff": 15
           },
           "zerolinecolor": "white",
           "zerolinewidth": 2
          }
         }
        },
        "title": {
         "text": "Fraud Transactions Over Time"
        },
        "xaxis": {
         "anchor": "y",
         "domain": [
          0,
          1
         ],
         "title": {
          "text": "Time (seconds)"
         }
        },
        "yaxis": {
         "anchor": "x",
         "domain": [
          0,
          1
         ],
         "title": {
          "text": "Transaction Amount"
         }
        }
       }
      },
      "text/html": [
       "<div>                            <div id=\"fcce847c-5458-438f-9a4f-b1b5772d1616\" class=\"plotly-graph-div\" style=\"height:525px; width:100%;\"></div>            <script type=\"text/javascript\">                require([\"plotly\"], function(Plotly) {                    window.PLOTLYENV=window.PLOTLYENV || {};                                    if (document.getElementById(\"fcce847c-5458-438f-9a4f-b1b5772d1616\")) {                    Plotly.newPlot(                        \"fcce847c-5458-438f-9a4f-b1b5772d1616\",                        [{\"hovertemplate\":\"Time (seconds)=%{x}<br>Transaction Amount=%{y}<extra></extra>\",\"legendgroup\":\"\",\"marker\":{\"color\":\"red\",\"opacity\":0.7,\"symbol\":\"circle\",\"size\":5},\"mode\":\"markers\",\"name\":\"\",\"orientation\":\"v\",\"showlegend\":false,\"x\":[406.0,472.0,4462.0,6986.0,7519.0,7526.0,7535.0,7543.0,7551.0,7610.0,7672.0,7740.0,7891.0,8090.0,8169.0,8408.0,8415.0,8451.0,8528.0,8614.0,8757.0,8808.0,8878.0,8886.0,9064.0,11080.0,11092.0,11131.0,11629.0,11635.0,12093.0,12095.0,12393.0,12597.0,13126.0,13323.0,14073.0,14152.0,15817.0,17187.0,17220.0,17230.0,17520.0,17838.0,18088.0,18399.0,18675.0,18690.0,19762.0,20011.0,20332.0,20451.0,20931.0,21046.0,21419.0,21662.0,25095.0,25198.0,25231.0,25254.0,25426.0,26523.0,26556.0,26585.0,26833.0,26863.0,26899.0,26931.0,26961.0,27163.0,27187.0,27219.0,27252.0,27784.0,28143.0,28242.0,28625.0,28658.0,28692.0,28726.0,28755.0,29526.0,29531.0,29753.0,29785.0,30852.0,32686.0,32745.0,34256.0,34521.0,34634.0,34684.0,34687.0,35585.0,35771.0,35866.0,35899.0,35906.0,35926.0,35942.0,35953.0,36170.0,37167.0,39729.0,40086.0,40276.0,40662.0,40742.0,40892.0,40918.0,40919.0,41116.0,41138.0,41147.0,41164.0,41170.0,41181.0,41194.0,41203.0,41204.0,41227.0,41233.0,41237.0,41243.0,41273.0,41285.0,41305.0,41308.0,41313.0,41353.0,41397.0,41413.0,41505.0,41582.0,41607.0,41646.0,41743.0,41791.0,41851.0,41870.0,41991.0,42247.0,42474.0,42985.0,42988.0,43028.0,43369.0,43494.0,44393.0,44532.0,45463.0,45501.0,45541.0,46057.0,46149.0,46925.0,47545.0,47826.0,47923.0,47982.0,48380.0,48533.0,48884.0,49985.0,50706.0,50808.0,51112.0,51135.0,51155.0,52814.0,52934.0,53031.0,53076.0,53451.0,53658.0,53727.0,53937.0,54846.0,55279.0,55311.0,55614.0,55618.0,55760.0,56098.0,56624.0,56650.0,56806.0,56887.0,57007.0,57027.0,57163.0,58060.0,58067.0,58199.0,58217.0,58222.0,58642.0,58822.0,59011.0,59385.0,59669.0,59777.0,59840.0,60353.0,61108.0,61646.0,62059.0,62080.0,62330.0,62341.0,62467.0,63578.0,64093.0,64412.0,64443.0,64585.0,64785.0,65358.0,65385.0,65728.0,65936.0,66037.0,67150.0,67571.0,67857.0,68207.0,68207.0,68207.0,68207.0,68207.0,68207.0,68357.0,69394.0,70071.0,70229.0,70270.0,70536.0,70828.0,71033.0,72327.0,72824.0,73408.0,74159.0,74262.0,75033.0,75556.0,75581.0,75851.0,75978.0,76575.0,76826.0,76845.0,76857.0,76867.0,76876.0,77154.0,77171.0,77182.0,77202.0,77627.0,78725.0,79540.0,81372.0,82289.0,83934.0,84204.0,84204.0,84204.0,84204.0,84694.0,84789.0,85181.0,85285.0,85285.0,85285.0,85285.0,85573.0,85576.0,85864.0,85867.0,86376.0,87202.0,87883.0,88672.0,88737.0,90676.0,91075.0,91407.0,91502.0,91524.0,91554.0,92092.0,92102.0,93742.0,93823.0,93824.0,93834.0,93853.0,93853.0,93853.0,93853.0,93856.0,93860.0,93860.0,93860.0,93860.0,93879.0,93879.0,93879.0,93879.0,93888.0,93897.0,93904.0,93920.0,93965.0,94141.0,94362.0,94362.0,94362.0,94362.0,94364.0,94625.0,94952.0,95559.0,95628.0,96135.0,96291.0,96717.0,97121.0,97235.0,100223.0,100298.0,100501.0,100924.0,101051.0,101313.0,101597.0,102114.0,102318.0,102480.0,102489.0,102542.0,102572.0,102619.0,102622.0,102625.0,102669.0,102671.0,102676.0,103808.0,109297.0,109298.0,110087.0,110547.0,110552.0,110617.0,115691.0,116067.0,118532.0,118603.0,121238.0,122608.0,123078.0,123525.0,125200.0,125612.0,125658.0,126219.0,128471.0,128519.0,128595.0,128803.0,129095.0,129186.0,129222.0,129308.0,129371.0,129668.0,129741.0,129764.0,129808.0,131024.0,132086.0,132688.0,133184.0,133731.0,133958.0,134766.0,134769.0,134928.0,135095.0,135102.0,135314.0,137211.0,138894.0,138942.0,139107.0,139117.0,139767.0,139816.0,139951.0,140293.0,140308.0,141320.0,141565.0,141925.0,142280.0,142394.0,142409.0,142840.0,142961.0,143354.0,143434.0,143438.0,143456.0,144808.0,144839.0,146022.0,146026.0,146179.0,146344.0,146998.0,147501.0,148028.0,148053.0,148053.0,148074.0,148468.0,148476.0,148479.0,149096.0,149236.0,149582.0,149640.0,149676.0,150138.0,150139.0,150494.0,150949.0,151029.0,151916.0,151972.0,152036.0,152058.0,152098.0,152165.0,152307.0,152710.0,152802.0,153653.0,153761.0,153875.0,154181.0,154278.0,154309.0,154493.0,154599.0,154657.0,155054.0,155359.0,155535.0,155542.0,155548.0,155554.0,155662.0,155965.0,156685.0,156710.0,157207.0,157284.0,158638.0,159844.0,160034.0,160243.0,160537.0,160665.0,160791.0,160870.0,160895.0,161154.0,163181.0,165132.0,165981.0,166028.0,166831.0,166883.0,167338.0,169142.0,169347.0,169351.0,169966.0,170348.0],\"xaxis\":\"x\",\"y\":[0.0,529.0,239.93,59.0,1.0,1.0,1.0,1.0,1.0,1.0,1.0,1.0,1.0,1.0,1.0,1.0,1.0,1.0,1.0,1.0,1.0,1.1,1.0,1.0,1809.68,1.0,1.0,1.0,1.0,1.0,0.0,30.39,179.66,1.0,1.0,1.0,1.0,1.0,11.39,3.79,3.79,3.93,1.0,766.36,1218.89,1.0,188.78,1.0,1.0,1.0,1.0,1.0,1.0,1.0,1.0,1.0,3.12,99.99,99.99,99.99,3.76,99.99,99.99,99.99,99.99,99.99,99.99,99.99,99.99,99.99,99.99,99.99,99.99,23.36,99.99,730.86,99.99,99.99,99.99,99.99,99.99,0.68,0.68,0.68,30.3,104.81,0.0,717.15,19.02,1.52,18.96,125.3,19.02,0.76,60.6,7.61,1.0,9.13,4.56,14.46,111.7,111.7,12.31,776.83,1.0,1.0,1.0,1.0,0.76,0.76,112.33,3.79,340.11,88.23,5.3,83.38,11.38,1.52,88.23,30.26,459.07,0.0,118.3,45.49,173.07,37.32,59.68,0.76,9.99,34.12,273.01,106.55,364.19,39.45,53.95,172.32,802.52,99.99,139.9,1.0,1.0,1.0,1.0,1.0,648.0,204.27,88.0,24.9,1.0,1.0,1.0,105.99,1.0,1.0,1.0,1.0,0.76,7.58,0.76,0.76,208.58,1.0,19.73,360.0,99.99,99.99,99.99,99.99,99.99,519.9,0.76,0.76,1.18,8.0,0.0,112.45,261.87,1.79,1.0,0.83,0.83,130.44,311.91,170.92,153.46,7.52,1.0,5.0,0.01,444.17,1.0,1.0,1.0,1.75,5.09,270.0,113.92,45.64,1389.56,18.98,6.27,319.2,5.91,454.82,101.5,19.04,6.62,180.0,1.0,1.1,1402.16,290.18,294.9,1.0,0.0,0.0,720.38,31.91,1354.25,98.01,101.5,7.53,489.71,549.06,320.0,1.0,1.0,1.0,1.0,1.0,1.0,19.59,1.0,227.3,3.79,318.11,824.83,0.76,426.4,238.9,45.03,16.48,76.94,311.28,30.14,29.95,124.53,99.85,99.9,219.8,254.76,1.0,1.0,1.0,1.0,129.0,1.0,1.0,1.0,106.9,60.0,0.2,7.57,1.0,1.0,0.0,0.0,512.25,512.25,12.31,354.33,2.0,0.0,0.0,252.92,252.92,1.0,240.77,1.0,310.42,323.77,451.27,829.41,1.18,9.21,6.99,38.76,52.69,1.0,1.0,261.22,18.0,600.73,1.0,75.86,8.54,0.01,44.9,44.9,316.06,316.06,209.65,78.0,78.0,188.52,188.52,30.31,30.31,104.03,104.03,1.0,1.0,37.93,97.0,11.4,45.48,1.0,1.0,1.0,1.0,1.0,33.76,571.48,1.63,1.63,18.96,33.59,1.0,8.64,9.82,2.28,1.0,0.76,1.0,0.92,2.28,147.87,0.0,22.04,0.0,104.0,2.28,0.01,1.0,346.94,7.59,0.0,0.0,119.74,2.27,0.0,186.13,1.0,0.76,80.22,635.1,17.06,65.0,105.89,105.89,144.62,2125.87,11.0,45.51,40.0,3.22,0.0,25.0,67.9,93.35,1.0,175.9,720.8,7.18,4.87,80.9,0.0,2.0,1.0,362.55,276.17,723.21,480.72,1.0,1335.0,0.0,130.21,1.0,925.31,0.0,345.0,108.51,84.28,39.45,0.01,727.91,22.47,8.3,120.54,0.69,723.21,0.77,592.9,195.66,4.49,0.76,324.59,320.01,2.0,144.8,0.0,1.0,1.0,8.9,1.0,667.55,0.0,1.18,2.22,0.77,94.82,8.0,996.27,0.0,1.59,1.59,0.0,0.76,0.76,122.68,0.0,1.0,1.1,2.0,17.39,50.0,237.26,1.0,9.29,10.7,0.01,57.73,1.0,1.0,1.0,1.0,1.0,2.47,357.95,247.86,51.37,0.0,0.76,1504.93,1096.99,35.0,6.74,0.77,0.77,0.77,3.9,3.14,7.06,94.82,0.77,0.77,187.11,7.59,4.97,0.77,296.0,45.51,4.9,156.0,4.69,0.77,1.0,0.77,127.14,0.38,39.98,12.31,0.0,39.9,634.3,19.95,349.08,390.0,0.76,77.89,245.0,42.53],\"yaxis\":\"y\",\"type\":\"scatter\"}],                        {\"template\":{\"data\":{\"histogram2dcontour\":[{\"type\":\"histogram2dcontour\",\"colorbar\":{\"outlinewidth\":0,\"ticks\":\"\"},\"colorscale\":[[0.0,\"#0d0887\"],[0.1111111111111111,\"#46039f\"],[0.2222222222222222,\"#7201a8\"],[0.3333333333333333,\"#9c179e\"],[0.4444444444444444,\"#bd3786\"],[0.5555555555555556,\"#d8576b\"],[0.6666666666666666,\"#ed7953\"],[0.7777777777777778,\"#fb9f3a\"],[0.8888888888888888,\"#fdca26\"],[1.0,\"#f0f921\"]]}],\"choropleth\":[{\"type\":\"choropleth\",\"colorbar\":{\"outlinewidth\":0,\"ticks\":\"\"}}],\"histogram2d\":[{\"type\":\"histogram2d\",\"colorbar\":{\"outlinewidth\":0,\"ticks\":\"\"},\"colorscale\":[[0.0,\"#0d0887\"],[0.1111111111111111,\"#46039f\"],[0.2222222222222222,\"#7201a8\"],[0.3333333333333333,\"#9c179e\"],[0.4444444444444444,\"#bd3786\"],[0.5555555555555556,\"#d8576b\"],[0.6666666666666666,\"#ed7953\"],[0.7777777777777778,\"#fb9f3a\"],[0.8888888888888888,\"#fdca26\"],[1.0,\"#f0f921\"]]}],\"heatmap\":[{\"type\":\"heatmap\",\"colorbar\":{\"outlinewidth\":0,\"ticks\":\"\"},\"colorscale\":[[0.0,\"#0d0887\"],[0.1111111111111111,\"#46039f\"],[0.2222222222222222,\"#7201a8\"],[0.3333333333333333,\"#9c179e\"],[0.4444444444444444,\"#bd3786\"],[0.5555555555555556,\"#d8576b\"],[0.6666666666666666,\"#ed7953\"],[0.7777777777777778,\"#fb9f3a\"],[0.8888888888888888,\"#fdca26\"],[1.0,\"#f0f921\"]]}],\"heatmapgl\":[{\"type\":\"heatmapgl\",\"colorbar\":{\"outlinewidth\":0,\"ticks\":\"\"},\"colorscale\":[[0.0,\"#0d0887\"],[0.1111111111111111,\"#46039f\"],[0.2222222222222222,\"#7201a8\"],[0.3333333333333333,\"#9c179e\"],[0.4444444444444444,\"#bd3786\"],[0.5555555555555556,\"#d8576b\"],[0.6666666666666666,\"#ed7953\"],[0.7777777777777778,\"#fb9f3a\"],[0.8888888888888888,\"#fdca26\"],[1.0,\"#f0f921\"]]}],\"contourcarpet\":[{\"type\":\"contourcarpet\",\"colorbar\":{\"outlinewidth\":0,\"ticks\":\"\"}}],\"contour\":[{\"type\":\"contour\",\"colorbar\":{\"outlinewidth\":0,\"ticks\":\"\"},\"colorscale\":[[0.0,\"#0d0887\"],[0.1111111111111111,\"#46039f\"],[0.2222222222222222,\"#7201a8\"],[0.3333333333333333,\"#9c179e\"],[0.4444444444444444,\"#bd3786\"],[0.5555555555555556,\"#d8576b\"],[0.6666666666666666,\"#ed7953\"],[0.7777777777777778,\"#fb9f3a\"],[0.8888888888888888,\"#fdca26\"],[1.0,\"#f0f921\"]]}],\"surface\":[{\"type\":\"surface\",\"colorbar\":{\"outlinewidth\":0,\"ticks\":\"\"},\"colorscale\":[[0.0,\"#0d0887\"],[0.1111111111111111,\"#46039f\"],[0.2222222222222222,\"#7201a8\"],[0.3333333333333333,\"#9c179e\"],[0.4444444444444444,\"#bd3786\"],[0.5555555555555556,\"#d8576b\"],[0.6666666666666666,\"#ed7953\"],[0.7777777777777778,\"#fb9f3a\"],[0.8888888888888888,\"#fdca26\"],[1.0,\"#f0f921\"]]}],\"mesh3d\":[{\"type\":\"mesh3d\",\"colorbar\":{\"outlinewidth\":0,\"ticks\":\"\"}}],\"scatter\":[{\"fillpattern\":{\"fillmode\":\"overlay\",\"size\":10,\"solidity\":0.2},\"type\":\"scatter\"}],\"parcoords\":[{\"type\":\"parcoords\",\"line\":{\"colorbar\":{\"outlinewidth\":0,\"ticks\":\"\"}}}],\"scatterpolargl\":[{\"type\":\"scatterpolargl\",\"marker\":{\"colorbar\":{\"outlinewidth\":0,\"ticks\":\"\"}}}],\"bar\":[{\"error_x\":{\"color\":\"#2a3f5f\"},\"error_y\":{\"color\":\"#2a3f5f\"},\"marker\":{\"line\":{\"color\":\"#E5ECF6\",\"width\":0.5},\"pattern\":{\"fillmode\":\"overlay\",\"size\":10,\"solidity\":0.2}},\"type\":\"bar\"}],\"scattergeo\":[{\"type\":\"scattergeo\",\"marker\":{\"colorbar\":{\"outlinewidth\":0,\"ticks\":\"\"}}}],\"scatterpolar\":[{\"type\":\"scatterpolar\",\"marker\":{\"colorbar\":{\"outlinewidth\":0,\"ticks\":\"\"}}}],\"histogram\":[{\"marker\":{\"pattern\":{\"fillmode\":\"overlay\",\"size\":10,\"solidity\":0.2}},\"type\":\"histogram\"}],\"scattergl\":[{\"type\":\"scattergl\",\"marker\":{\"colorbar\":{\"outlinewidth\":0,\"ticks\":\"\"}}}],\"scatter3d\":[{\"type\":\"scatter3d\",\"line\":{\"colorbar\":{\"outlinewidth\":0,\"ticks\":\"\"}},\"marker\":{\"colorbar\":{\"outlinewidth\":0,\"ticks\":\"\"}}}],\"scattermapbox\":[{\"type\":\"scattermapbox\",\"marker\":{\"colorbar\":{\"outlinewidth\":0,\"ticks\":\"\"}}}],\"scatterternary\":[{\"type\":\"scatterternary\",\"marker\":{\"colorbar\":{\"outlinewidth\":0,\"ticks\":\"\"}}}],\"scattercarpet\":[{\"type\":\"scattercarpet\",\"marker\":{\"colorbar\":{\"outlinewidth\":0,\"ticks\":\"\"}}}],\"carpet\":[{\"aaxis\":{\"endlinecolor\":\"#2a3f5f\",\"gridcolor\":\"white\",\"linecolor\":\"white\",\"minorgridcolor\":\"white\",\"startlinecolor\":\"#2a3f5f\"},\"baxis\":{\"endlinecolor\":\"#2a3f5f\",\"gridcolor\":\"white\",\"linecolor\":\"white\",\"minorgridcolor\":\"white\",\"startlinecolor\":\"#2a3f5f\"},\"type\":\"carpet\"}],\"table\":[{\"cells\":{\"fill\":{\"color\":\"#EBF0F8\"},\"line\":{\"color\":\"white\"}},\"header\":{\"fill\":{\"color\":\"#C8D4E3\"},\"line\":{\"color\":\"white\"}},\"type\":\"table\"}],\"barpolar\":[{\"marker\":{\"line\":{\"color\":\"#E5ECF6\",\"width\":0.5},\"pattern\":{\"fillmode\":\"overlay\",\"size\":10,\"solidity\":0.2}},\"type\":\"barpolar\"}],\"pie\":[{\"automargin\":true,\"type\":\"pie\"}]},\"layout\":{\"autotypenumbers\":\"strict\",\"colorway\":[\"#636efa\",\"#EF553B\",\"#00cc96\",\"#ab63fa\",\"#FFA15A\",\"#19d3f3\",\"#FF6692\",\"#B6E880\",\"#FF97FF\",\"#FECB52\"],\"font\":{\"color\":\"#2a3f5f\"},\"hovermode\":\"closest\",\"hoverlabel\":{\"align\":\"left\"},\"paper_bgcolor\":\"white\",\"plot_bgcolor\":\"#E5ECF6\",\"polar\":{\"bgcolor\":\"#E5ECF6\",\"angularaxis\":{\"gridcolor\":\"white\",\"linecolor\":\"white\",\"ticks\":\"\"},\"radialaxis\":{\"gridcolor\":\"white\",\"linecolor\":\"white\",\"ticks\":\"\"}},\"ternary\":{\"bgcolor\":\"#E5ECF6\",\"aaxis\":{\"gridcolor\":\"white\",\"linecolor\":\"white\",\"ticks\":\"\"},\"baxis\":{\"gridcolor\":\"white\",\"linecolor\":\"white\",\"ticks\":\"\"},\"caxis\":{\"gridcolor\":\"white\",\"linecolor\":\"white\",\"ticks\":\"\"}},\"coloraxis\":{\"colorbar\":{\"outlinewidth\":0,\"ticks\":\"\"}},\"colorscale\":{\"sequential\":[[0.0,\"#0d0887\"],[0.1111111111111111,\"#46039f\"],[0.2222222222222222,\"#7201a8\"],[0.3333333333333333,\"#9c179e\"],[0.4444444444444444,\"#bd3786\"],[0.5555555555555556,\"#d8576b\"],[0.6666666666666666,\"#ed7953\"],[0.7777777777777778,\"#fb9f3a\"],[0.8888888888888888,\"#fdca26\"],[1.0,\"#f0f921\"]],\"sequentialminus\":[[0.0,\"#0d0887\"],[0.1111111111111111,\"#46039f\"],[0.2222222222222222,\"#7201a8\"],[0.3333333333333333,\"#9c179e\"],[0.4444444444444444,\"#bd3786\"],[0.5555555555555556,\"#d8576b\"],[0.6666666666666666,\"#ed7953\"],[0.7777777777777778,\"#fb9f3a\"],[0.8888888888888888,\"#fdca26\"],[1.0,\"#f0f921\"]],\"diverging\":[[0,\"#8e0152\"],[0.1,\"#c51b7d\"],[0.2,\"#de77ae\"],[0.3,\"#f1b6da\"],[0.4,\"#fde0ef\"],[0.5,\"#f7f7f7\"],[0.6,\"#e6f5d0\"],[0.7,\"#b8e186\"],[0.8,\"#7fbc41\"],[0.9,\"#4d9221\"],[1,\"#276419\"]]},\"xaxis\":{\"gridcolor\":\"white\",\"linecolor\":\"white\",\"ticks\":\"\",\"title\":{\"standoff\":15},\"zerolinecolor\":\"white\",\"automargin\":true,\"zerolinewidth\":2},\"yaxis\":{\"gridcolor\":\"white\",\"linecolor\":\"white\",\"ticks\":\"\",\"title\":{\"standoff\":15},\"zerolinecolor\":\"white\",\"automargin\":true,\"zerolinewidth\":2},\"scene\":{\"xaxis\":{\"backgroundcolor\":\"#E5ECF6\",\"gridcolor\":\"white\",\"linecolor\":\"white\",\"showbackground\":true,\"ticks\":\"\",\"zerolinecolor\":\"white\",\"gridwidth\":2},\"yaxis\":{\"backgroundcolor\":\"#E5ECF6\",\"gridcolor\":\"white\",\"linecolor\":\"white\",\"showbackground\":true,\"ticks\":\"\",\"zerolinecolor\":\"white\",\"gridwidth\":2},\"zaxis\":{\"backgroundcolor\":\"#E5ECF6\",\"gridcolor\":\"white\",\"linecolor\":\"white\",\"showbackground\":true,\"ticks\":\"\",\"zerolinecolor\":\"white\",\"gridwidth\":2}},\"shapedefaults\":{\"line\":{\"color\":\"#2a3f5f\"}},\"annotationdefaults\":{\"arrowcolor\":\"#2a3f5f\",\"arrowhead\":0,\"arrowwidth\":1},\"geo\":{\"bgcolor\":\"white\",\"landcolor\":\"#E5ECF6\",\"subunitcolor\":\"white\",\"showland\":true,\"showlakes\":true,\"lakecolor\":\"white\"},\"title\":{\"x\":0.05},\"mapbox\":{\"style\":\"light\"}}},\"xaxis\":{\"anchor\":\"y\",\"domain\":[0.0,1.0],\"title\":{\"text\":\"Time (seconds)\"}},\"yaxis\":{\"anchor\":\"x\",\"domain\":[0.0,1.0],\"title\":{\"text\":\"Transaction Amount\"}},\"legend\":{\"tracegroupgap\":0},\"title\":{\"text\":\"Fraud Transactions Over Time\"}},                        {\"responsive\": true}                    ).then(function(){\n",
       "                            \n",
       "var gd = document.getElementById('fcce847c-5458-438f-9a4f-b1b5772d1616');\n",
       "var x = new MutationObserver(function (mutations, observer) {{\n",
       "        var display = window.getComputedStyle(gd).display;\n",
       "        if (!display || display === 'none') {{\n",
       "            console.log([gd, 'removed!']);\n",
       "            Plotly.purge(gd);\n",
       "            observer.disconnect();\n",
       "        }}\n",
       "}});\n",
       "\n",
       "// Listen for the removal of the full notebook cells\n",
       "var notebookContainer = gd.closest('#notebook-container');\n",
       "if (notebookContainer) {{\n",
       "    x.observe(notebookContainer, {childList: true});\n",
       "}}\n",
       "\n",
       "// Listen for the clearing of the current output cell\n",
       "var outputEl = gd.closest('.output');\n",
       "if (outputEl) {{\n",
       "    x.observe(outputEl, {childList: true});\n",
       "}}\n",
       "\n",
       "                        })                };                });            </script>        </div>"
      ]
     },
     "metadata": {},
     "output_type": "display_data"
    }
   ],
   "source": [
    "fraud = data[data['Class'] == 1]\n",
    "\n",
    "fig = px.scatter(\n",
    "    fraud,\n",
    "    x='Time',\n",
    "    y='Amount',\n",
    "    title='Fraud Transactions Over Time',\n",
    "    labels={'Time': 'Time (seconds)', 'Amount': 'Transaction Amount'},\n",
    "    opacity=0.7\n",
    ")\n",
    "\n",
    "fig.update_traces(marker=dict(color='red', size=5))\n",
    "\n",
    "fig.show()"
   ]
  },
  {
   "cell_type": "markdown",
   "id": "20bc0a6f",
   "metadata": {},
   "source": [
    "#### Feature Distribution by Class"
   ]
  },
  {
   "cell_type": "code",
   "execution_count": 18,
   "id": "80d444ae",
   "metadata": {},
   "outputs": [
    {
     "data": {
      "image/png": "[encoded data removed]",
      "text/plain": [
       "<Figure size 1200x600 with 1 Axes>"
      ]
     },
     "metadata": {},
     "output_type": "display_data"
    }
   ],
   "source": [
    "plt.figure(figsize=(12, 6))\n",
    "sns.violinplot(data=data, x='Class', y='V1', palette='Set2')\n",
    "plt.title('Feature V1 Distribution by Class')\n",
    "plt.show()"
   ]
  },
  {
   "cell_type": "markdown",
   "id": "f6aa57eb",
   "metadata": {},
   "source": [
    "## Data Preproccesing"
   ]
  },
  {
   "cell_type": "code",
   "execution_count": 19,
   "id": "19498424",
   "metadata": {},
   "outputs": [
    {
     "data": {
      "text/plain": [
       "Class\n",
       "0    284315\n",
       "1       492\n",
       "Name: count, dtype: int64"
      ]
     },
     "execution_count": 19,
     "metadata": {},
     "output_type": "execute_result"
    }
   ],
   "source": [
    "data['Class'].value_counts()"
   ]
  },
  {
   "cell_type": "code",
   "execution_count": 20,
   "id": "587330fc",
   "metadata": {},
   "outputs": [],
   "source": [
    "legit = data[data.Class == 0]\n",
    "fraud = data[data.Class == 1]"
   ]
  },
  {
   "cell_type": "code",
   "execution_count": 21,
   "id": "4b4c83fd",
   "metadata": {},
   "outputs": [
    {
     "name": "stdout",
     "output_type": "stream",
     "text": [
      "(284315, 31)\n",
      "(492, 31)\n"
     ]
    }
   ],
   "source": [
    "print(legit.shape)\n",
    "print(fraud.shape)"
   ]
  },
  {
   "cell_type": "code",
   "execution_count": 22,
   "id": "f2a27327",
   "metadata": {},
   "outputs": [
    {
     "data": {
      "text/plain": [
       "count    284315.000000\n",
       "mean         88.291022\n",
       "std         250.105092\n",
       "min           0.000000\n",
       "25%           5.650000\n",
       "50%          22.000000\n",
       "75%          77.050000\n",
       "max       25691.160000\n",
       "Name: Amount, dtype: float64"
      ]
     },
     "execution_count": 22,
     "metadata": {},
     "output_type": "execute_result"
    }
   ],
   "source": [
    "legit.Amount.describe()"
   ]
  },
  {
   "cell_type": "code",
   "execution_count": 23,
   "id": "dc9c1eb1",
   "metadata": {},
   "outputs": [
    {
     "data": {
      "text/plain": [
       "count     492.000000\n",
       "mean      122.211321\n",
       "std       256.683288\n",
       "min         0.000000\n",
       "25%         1.000000\n",
       "50%         9.250000\n",
       "75%       105.890000\n",
       "max      2125.870000\n",
       "Name: Amount, dtype: float64"
      ]
     },
     "execution_count": 23,
     "metadata": {},
     "output_type": "execute_result"
    }
   ],
   "source": [
    "fraud.Amount.describe()"
   ]
  },
  {
   "cell_type": "code",
   "execution_count": 24,
   "id": "d9528deb",
   "metadata": {},
   "outputs": [
    {
     "data": {
      "text/plain": [
       "Index(['Time', 'V1', 'V2', 'V3', 'V4', 'V5', 'V6', 'V7', 'V8', 'V9', 'V10',\n",
       "       'V11', 'V12', 'V13', 'V14', 'V15', 'V16', 'V17', 'V18', 'V19', 'V20',\n",
       "       'V21', 'V22', 'V23', 'V24', 'V25', 'V26', 'V27', 'V28', 'Amount',\n",
       "       'Class'],\n",
       "      dtype='object')"
      ]
     },
     "execution_count": 24,
     "metadata": {},
     "output_type": "execute_result"
    }
   ],
   "source": [
    "data.columns"
   ]
  },
  {
   "cell_type": "code",
   "execution_count": 25,
   "id": "cc17ac2e",
   "metadata": {},
   "outputs": [
    {
     "data": {
      "text/html": [
       "<div>\n",
       "<style scoped>\n",
       "    .dataframe tbody tr th:only-of-type {\n",
       "        vertical-align: middle;\n",
       "    }\n",
       "\n",
       "    .dataframe tbody tr th {\n",
       "        vertical-align: top;\n",
       "    }\n",
       "\n",
       "    .dataframe thead th {\n",
       "        text-align: right;\n",
       "    }\n",
       "</style>\n",
       "<table border=\"1\" class=\"dataframe\">\n",
       "  <thead>\n",
       "    <tr style=\"text-align: right;\">\n",
       "      <th></th>\n",
       "      <th>Time</th>\n",
       "      <th>V1</th>\n",
       "      <th>V2</th>\n",
       "      <th>V3</th>\n",
       "      <th>V4</th>\n",
       "      <th>V5</th>\n",
       "      <th>V6</th>\n",
       "      <th>V7</th>\n",
       "      <th>V8</th>\n",
       "      <th>V9</th>\n",
       "      <th>...</th>\n",
       "      <th>V20</th>\n",
       "      <th>V21</th>\n",
       "      <th>V22</th>\n",
       "      <th>V23</th>\n",
       "      <th>V24</th>\n",
       "      <th>V25</th>\n",
       "      <th>V26</th>\n",
       "      <th>V27</th>\n",
       "      <th>V28</th>\n",
       "      <th>Amount</th>\n",
       "    </tr>\n",
       "    <tr>\n",
       "      <th>Class</th>\n",
       "      <th></th>\n",
       "      <th></th>\n",
       "      <th></th>\n",
       "      <th></th>\n",
       "      <th></th>\n",
       "      <th></th>\n",
       "      <th></th>\n",
       "      <th></th>\n",
       "      <th></th>\n",
       "      <th></th>\n",
       "      <th></th>\n",
       "      <th></th>\n",
       "      <th></th>\n",
       "      <th></th>\n",
       "      <th></th>\n",
       "      <th></th>\n",
       "      <th></th>\n",
       "      <th></th>\n",
       "      <th></th>\n",
       "      <th></th>\n",
       "      <th></th>\n",
       "    </tr>\n",
       "  </thead>\n",
       "  <tbody>\n",
       "    <tr>\n",
       "      <th>0</th>\n",
       "      <td>94838.202258</td>\n",
       "      <td>0.008258</td>\n",
       "      <td>-0.006271</td>\n",
       "      <td>0.012171</td>\n",
       "      <td>-0.007860</td>\n",
       "      <td>0.005453</td>\n",
       "      <td>0.002419</td>\n",
       "      <td>0.009637</td>\n",
       "      <td>-0.000987</td>\n",
       "      <td>0.004467</td>\n",
       "      <td>...</td>\n",
       "      <td>-0.000644</td>\n",
       "      <td>-0.001235</td>\n",
       "      <td>-0.000024</td>\n",
       "      <td>0.000070</td>\n",
       "      <td>0.000182</td>\n",
       "      <td>-0.000072</td>\n",
       "      <td>-0.000089</td>\n",
       "      <td>-0.000295</td>\n",
       "      <td>-0.000131</td>\n",
       "      <td>88.291022</td>\n",
       "    </tr>\n",
       "    <tr>\n",
       "      <th>1</th>\n",
       "      <td>80746.806911</td>\n",
       "      <td>-4.771948</td>\n",
       "      <td>3.623778</td>\n",
       "      <td>-7.033281</td>\n",
       "      <td>4.542029</td>\n",
       "      <td>-3.151225</td>\n",
       "      <td>-1.397737</td>\n",
       "      <td>-5.568731</td>\n",
       "      <td>0.570636</td>\n",
       "      <td>-2.581123</td>\n",
       "      <td>...</td>\n",
       "      <td>0.372319</td>\n",
       "      <td>0.713588</td>\n",
       "      <td>0.014049</td>\n",
       "      <td>-0.040308</td>\n",
       "      <td>-0.105130</td>\n",
       "      <td>0.041449</td>\n",
       "      <td>0.051648</td>\n",
       "      <td>0.170575</td>\n",
       "      <td>0.075667</td>\n",
       "      <td>122.211321</td>\n",
       "    </tr>\n",
       "  </tbody>\n",
       "</table>\n",
       "<p>2 rows × 30 columns</p>\n",
       "</div>"
      ],
      "text/plain": [
       "               Time        V1        V2        V3        V4        V5  \\\n",
       "Class                                                                   \n",
       "0      94838.202258  0.008258 -0.006271  0.012171 -0.007860  0.005453   \n",
       "1      80746.806911 -4.771948  3.623778 -7.033281  4.542029 -3.151225   \n",
       "\n",
       "             V6        V7        V8        V9  ...       V20       V21  \\\n",
       "Class                                          ...                       \n",
       "0      0.002419  0.009637 -0.000987  0.004467  ... -0.000644 -0.001235   \n",
       "1     -1.397737 -5.568731  0.570636 -2.581123  ...  0.372319  0.713588   \n",
       "\n",
       "            V22       V23       V24       V25       V26       V27       V28  \\\n",
       "Class                                                                         \n",
       "0     -0.000024  0.000070  0.000182 -0.000072 -0.000089 -0.000295 -0.000131   \n",
       "1      0.014049 -0.040308 -0.105130  0.041449  0.051648  0.170575  0.075667   \n",
       "\n",
       "           Amount  \n",
       "Class              \n",
       "0       88.291022  \n",
       "1      122.211321  \n",
       "\n",
       "[2 rows x 30 columns]"
      ]
     },
     "execution_count": 25,
     "metadata": {},
     "output_type": "execute_result"
    }
   ],
   "source": [
    "data.groupby('Class').mean()"
   ]
  },
  {
   "cell_type": "code",
   "execution_count": 26,
   "id": "c1db767f",
   "metadata": {},
   "outputs": [],
   "source": [
    "legit_sample = legit.sample(n=492)"
   ]
  },
  {
   "cell_type": "code",
   "execution_count": 27,
   "id": "9d622198",
   "metadata": {},
   "outputs": [],
   "source": [
    "new_dataset = pd.concat([legit_sample, fraud], axis=0)"
   ]
  },
  {
   "cell_type": "code",
   "execution_count": 28,
   "id": "ee3fc2ed",
   "metadata": {},
   "outputs": [
    {
     "data": {
      "text/html": [
       "<div>\n",
       "<style scoped>\n",
       "    .dataframe tbody tr th:only-of-type {\n",
       "        vertical-align: middle;\n",
       "    }\n",
       "\n",
       "    .dataframe tbody tr th {\n",
       "        vertical-align: top;\n",
       "    }\n",
       "\n",
       "    .dataframe thead th {\n",
       "        text-align: right;\n",
       "    }\n",
       "</style>\n",
       "<table border=\"1\" class=\"dataframe\">\n",
       "  <thead>\n",
       "    <tr style=\"text-align: right;\">\n",
       "      <th></th>\n",
       "      <th>Time</th>\n",
       "      <th>V1</th>\n",
       "      <th>V2</th>\n",
       "      <th>V3</th>\n",
       "      <th>V4</th>\n",
       "      <th>V5</th>\n",
       "      <th>V6</th>\n",
       "      <th>V7</th>\n",
       "      <th>V8</th>\n",
       "      <th>V9</th>\n",
       "      <th>...</th>\n",
       "      <th>V21</th>\n",
       "      <th>V22</th>\n",
       "      <th>V23</th>\n",
       "      <th>V24</th>\n",
       "      <th>V25</th>\n",
       "      <th>V26</th>\n",
       "      <th>V27</th>\n",
       "      <th>V28</th>\n",
       "      <th>Amount</th>\n",
       "      <th>Class</th>\n",
       "    </tr>\n",
       "  </thead>\n",
       "  <tbody>\n",
       "    <tr>\n",
       "      <th>281863</th>\n",
       "      <td>170478.0</td>\n",
       "      <td>-0.604877</td>\n",
       "      <td>1.337048</td>\n",
       "      <td>0.975155</td>\n",
       "      <td>2.475457</td>\n",
       "      <td>2.204279</td>\n",
       "      <td>2.291555</td>\n",
       "      <td>0.709784</td>\n",
       "      <td>0.617522</td>\n",
       "      <td>-2.465126</td>\n",
       "      <td>...</td>\n",
       "      <td>0.319942</td>\n",
       "      <td>0.844229</td>\n",
       "      <td>-0.450095</td>\n",
       "      <td>-0.732920</td>\n",
       "      <td>0.773378</td>\n",
       "      <td>0.412548</td>\n",
       "      <td>-0.052906</td>\n",
       "      <td>-0.081319</td>\n",
       "      <td>2.28</td>\n",
       "      <td>0</td>\n",
       "    </tr>\n",
       "    <tr>\n",
       "      <th>269134</th>\n",
       "      <td>163546.0</td>\n",
       "      <td>0.327338</td>\n",
       "      <td>0.147343</td>\n",
       "      <td>-0.100280</td>\n",
       "      <td>-2.050332</td>\n",
       "      <td>0.223306</td>\n",
       "      <td>-0.975126</td>\n",
       "      <td>0.525372</td>\n",
       "      <td>-0.160708</td>\n",
       "      <td>-1.480479</td>\n",
       "      <td>...</td>\n",
       "      <td>0.138596</td>\n",
       "      <td>0.220092</td>\n",
       "      <td>-0.094018</td>\n",
       "      <td>-0.370201</td>\n",
       "      <td>-0.340181</td>\n",
       "      <td>-0.384868</td>\n",
       "      <td>0.017932</td>\n",
       "      <td>0.015844</td>\n",
       "      <td>2.39</td>\n",
       "      <td>0</td>\n",
       "    </tr>\n",
       "    <tr>\n",
       "      <th>276807</th>\n",
       "      <td>167308.0</td>\n",
       "      <td>-0.742918</td>\n",
       "      <td>0.895237</td>\n",
       "      <td>1.376781</td>\n",
       "      <td>-0.283362</td>\n",
       "      <td>-0.454989</td>\n",
       "      <td>-0.543159</td>\n",
       "      <td>0.068666</td>\n",
       "      <td>0.462693</td>\n",
       "      <td>0.133294</td>\n",
       "      <td>...</td>\n",
       "      <td>-0.075098</td>\n",
       "      <td>-0.309488</td>\n",
       "      <td>-0.020331</td>\n",
       "      <td>-0.001973</td>\n",
       "      <td>-0.318423</td>\n",
       "      <td>-0.529842</td>\n",
       "      <td>0.031764</td>\n",
       "      <td>0.076053</td>\n",
       "      <td>10.00</td>\n",
       "      <td>0</td>\n",
       "    </tr>\n",
       "    <tr>\n",
       "      <th>144705</th>\n",
       "      <td>86344.0</td>\n",
       "      <td>-1.040132</td>\n",
       "      <td>0.356891</td>\n",
       "      <td>0.912142</td>\n",
       "      <td>0.132454</td>\n",
       "      <td>0.207077</td>\n",
       "      <td>0.074975</td>\n",
       "      <td>-0.015837</td>\n",
       "      <td>0.604615</td>\n",
       "      <td>-0.336793</td>\n",
       "      <td>...</td>\n",
       "      <td>0.128091</td>\n",
       "      <td>0.217078</td>\n",
       "      <td>-0.179876</td>\n",
       "      <td>-0.438981</td>\n",
       "      <td>-0.086064</td>\n",
       "      <td>0.375696</td>\n",
       "      <td>-0.017896</td>\n",
       "      <td>-0.008999</td>\n",
       "      <td>40.00</td>\n",
       "      <td>0</td>\n",
       "    </tr>\n",
       "    <tr>\n",
       "      <th>225598</th>\n",
       "      <td>144313.0</td>\n",
       "      <td>-0.525783</td>\n",
       "      <td>0.650168</td>\n",
       "      <td>-0.406914</td>\n",
       "      <td>-1.034624</td>\n",
       "      <td>3.480982</td>\n",
       "      <td>3.510990</td>\n",
       "      <td>0.486101</td>\n",
       "      <td>0.714986</td>\n",
       "      <td>-0.735388</td>\n",
       "      <td>...</td>\n",
       "      <td>-0.379061</td>\n",
       "      <td>-1.043272</td>\n",
       "      <td>-0.266845</td>\n",
       "      <td>0.621983</td>\n",
       "      <td>0.361481</td>\n",
       "      <td>0.495090</td>\n",
       "      <td>-0.150262</td>\n",
       "      <td>-0.149732</td>\n",
       "      <td>1.98</td>\n",
       "      <td>0</td>\n",
       "    </tr>\n",
       "  </tbody>\n",
       "</table>\n",
       "<p>5 rows × 31 columns</p>\n",
       "</div>"
      ],
      "text/plain": [
       "            Time        V1        V2        V3        V4        V5        V6  \\\n",
       "281863  170478.0 -0.604877  1.337048  0.975155  2.475457  2.204279  2.291555   \n",
       "269134  163546.0  0.327338  0.147343 -0.100280 -2.050332  0.223306 -0.975126   \n",
       "276807  167308.0 -0.742918  0.895237  1.376781 -0.283362 -0.454989 -0.543159   \n",
       "144705   86344.0 -1.040132  0.356891  0.912142  0.132454  0.207077  0.074975   \n",
       "225598  144313.0 -0.525783  0.650168 -0.406914 -1.034624  3.480982  3.510990   \n",
       "\n",
       "              V7        V8        V9  ...       V21       V22       V23  \\\n",
       "281863  0.709784  0.617522 -2.465126  ...  0.319942  0.844229 -0.450095   \n",
       "269134  0.525372 -0.160708 -1.480479  ...  0.138596  0.220092 -0.094018   \n",
       "276807  0.068666  0.462693  0.133294  ... -0.075098 -0.309488 -0.020331   \n",
       "144705 -0.015837  0.604615 -0.336793  ...  0.128091  0.217078 -0.179876   \n",
       "225598  0.486101  0.714986 -0.735388  ... -0.379061 -1.043272 -0.266845   \n",
       "\n",
       "             V24       V25       V26       V27       V28  Amount  Class  \n",
       "281863 -0.732920  0.773378  0.412548 -0.052906 -0.081319    2.28      0  \n",
       "269134 -0.370201 -0.340181 -0.384868  0.017932  0.015844    2.39      0  \n",
       "276807 -0.001973 -0.318423 -0.529842  0.031764  0.076053   10.00      0  \n",
       "144705 -0.438981 -0.086064  0.375696 -0.017896 -0.008999   40.00      0  \n",
       "225598  0.621983  0.361481  0.495090 -0.150262 -0.149732    1.98      0  \n",
       "\n",
       "[5 rows x 31 columns]"
      ]
     },
     "execution_count": 28,
     "metadata": {},
     "output_type": "execute_result"
    }
   ],
   "source": [
    "new_dataset.head()"
   ]
  },
  {
   "cell_type": "code",
   "execution_count": 29,
   "id": "44943aeb",
   "metadata": {},
   "outputs": [
    {
     "data": {
      "text/html": [
       "<div>\n",
       "<style scoped>\n",
       "    .dataframe tbody tr th:only-of-type {\n",
       "        vertical-align: middle;\n",
       "    }\n",
       "\n",
       "    .dataframe tbody tr th {\n",
       "        vertical-align: top;\n",
       "    }\n",
       "\n",
       "    .dataframe thead th {\n",
       "        text-align: right;\n",
       "    }\n",
       "</style>\n",
       "<table border=\"1\" class=\"dataframe\">\n",
       "  <thead>\n",
       "    <tr style=\"text-align: right;\">\n",
       "      <th></th>\n",
       "      <th>Time</th>\n",
       "      <th>V1</th>\n",
       "      <th>V2</th>\n",
       "      <th>V3</th>\n",
       "      <th>V4</th>\n",
       "      <th>V5</th>\n",
       "      <th>V6</th>\n",
       "      <th>V7</th>\n",
       "      <th>V8</th>\n",
       "      <th>V9</th>\n",
       "      <th>...</th>\n",
       "      <th>V21</th>\n",
       "      <th>V22</th>\n",
       "      <th>V23</th>\n",
       "      <th>V24</th>\n",
       "      <th>V25</th>\n",
       "      <th>V26</th>\n",
       "      <th>V27</th>\n",
       "      <th>V28</th>\n",
       "      <th>Amount</th>\n",
       "      <th>Class</th>\n",
       "    </tr>\n",
       "  </thead>\n",
       "  <tbody>\n",
       "    <tr>\n",
       "      <th>279863</th>\n",
       "      <td>169142.0</td>\n",
       "      <td>-1.927883</td>\n",
       "      <td>1.125653</td>\n",
       "      <td>-4.518331</td>\n",
       "      <td>1.749293</td>\n",
       "      <td>-1.566487</td>\n",
       "      <td>-2.010494</td>\n",
       "      <td>-0.882850</td>\n",
       "      <td>0.697211</td>\n",
       "      <td>-2.064945</td>\n",
       "      <td>...</td>\n",
       "      <td>0.778584</td>\n",
       "      <td>-0.319189</td>\n",
       "      <td>0.639419</td>\n",
       "      <td>-0.294885</td>\n",
       "      <td>0.537503</td>\n",
       "      <td>0.788395</td>\n",
       "      <td>0.292680</td>\n",
       "      <td>0.147968</td>\n",
       "      <td>390.00</td>\n",
       "      <td>1</td>\n",
       "    </tr>\n",
       "    <tr>\n",
       "      <th>280143</th>\n",
       "      <td>169347.0</td>\n",
       "      <td>1.378559</td>\n",
       "      <td>1.289381</td>\n",
       "      <td>-5.004247</td>\n",
       "      <td>1.411850</td>\n",
       "      <td>0.442581</td>\n",
       "      <td>-1.326536</td>\n",
       "      <td>-1.413170</td>\n",
       "      <td>0.248525</td>\n",
       "      <td>-1.127396</td>\n",
       "      <td>...</td>\n",
       "      <td>0.370612</td>\n",
       "      <td>0.028234</td>\n",
       "      <td>-0.145640</td>\n",
       "      <td>-0.081049</td>\n",
       "      <td>0.521875</td>\n",
       "      <td>0.739467</td>\n",
       "      <td>0.389152</td>\n",
       "      <td>0.186637</td>\n",
       "      <td>0.76</td>\n",
       "      <td>1</td>\n",
       "    </tr>\n",
       "    <tr>\n",
       "      <th>280149</th>\n",
       "      <td>169351.0</td>\n",
       "      <td>-0.676143</td>\n",
       "      <td>1.126366</td>\n",
       "      <td>-2.213700</td>\n",
       "      <td>0.468308</td>\n",
       "      <td>-1.120541</td>\n",
       "      <td>-0.003346</td>\n",
       "      <td>-2.234739</td>\n",
       "      <td>1.210158</td>\n",
       "      <td>-0.652250</td>\n",
       "      <td>...</td>\n",
       "      <td>0.751826</td>\n",
       "      <td>0.834108</td>\n",
       "      <td>0.190944</td>\n",
       "      <td>0.032070</td>\n",
       "      <td>-0.739695</td>\n",
       "      <td>0.471111</td>\n",
       "      <td>0.385107</td>\n",
       "      <td>0.194361</td>\n",
       "      <td>77.89</td>\n",
       "      <td>1</td>\n",
       "    </tr>\n",
       "    <tr>\n",
       "      <th>281144</th>\n",
       "      <td>169966.0</td>\n",
       "      <td>-3.113832</td>\n",
       "      <td>0.585864</td>\n",
       "      <td>-5.399730</td>\n",
       "      <td>1.817092</td>\n",
       "      <td>-0.840618</td>\n",
       "      <td>-2.943548</td>\n",
       "      <td>-2.208002</td>\n",
       "      <td>1.058733</td>\n",
       "      <td>-1.632333</td>\n",
       "      <td>...</td>\n",
       "      <td>0.583276</td>\n",
       "      <td>-0.269209</td>\n",
       "      <td>-0.456108</td>\n",
       "      <td>-0.183659</td>\n",
       "      <td>-0.328168</td>\n",
       "      <td>0.606116</td>\n",
       "      <td>0.884876</td>\n",
       "      <td>-0.253700</td>\n",
       "      <td>245.00</td>\n",
       "      <td>1</td>\n",
       "    </tr>\n",
       "    <tr>\n",
       "      <th>281674</th>\n",
       "      <td>170348.0</td>\n",
       "      <td>1.991976</td>\n",
       "      <td>0.158476</td>\n",
       "      <td>-2.583441</td>\n",
       "      <td>0.408670</td>\n",
       "      <td>1.151147</td>\n",
       "      <td>-0.096695</td>\n",
       "      <td>0.223050</td>\n",
       "      <td>-0.068384</td>\n",
       "      <td>0.577829</td>\n",
       "      <td>...</td>\n",
       "      <td>-0.164350</td>\n",
       "      <td>-0.295135</td>\n",
       "      <td>-0.072173</td>\n",
       "      <td>-0.450261</td>\n",
       "      <td>0.313267</td>\n",
       "      <td>-0.289617</td>\n",
       "      <td>0.002988</td>\n",
       "      <td>-0.015309</td>\n",
       "      <td>42.53</td>\n",
       "      <td>1</td>\n",
       "    </tr>\n",
       "  </tbody>\n",
       "</table>\n",
       "<p>5 rows × 31 columns</p>\n",
       "</div>"
      ],
      "text/plain": [
       "            Time        V1        V2        V3        V4        V5        V6  \\\n",
       "279863  169142.0 -1.927883  1.125653 -4.518331  1.749293 -1.566487 -2.010494   \n",
       "280143  169347.0  1.378559  1.289381 -5.004247  1.411850  0.442581 -1.326536   \n",
       "280149  169351.0 -0.676143  1.126366 -2.213700  0.468308 -1.120541 -0.003346   \n",
       "281144  169966.0 -3.113832  0.585864 -5.399730  1.817092 -0.840618 -2.943548   \n",
       "281674  170348.0  1.991976  0.158476 -2.583441  0.408670  1.151147 -0.096695   \n",
       "\n",
       "              V7        V8        V9  ...       V21       V22       V23  \\\n",
       "279863 -0.882850  0.697211 -2.064945  ...  0.778584 -0.319189  0.639419   \n",
       "280143 -1.413170  0.248525 -1.127396  ...  0.370612  0.028234 -0.145640   \n",
       "280149 -2.234739  1.210158 -0.652250  ...  0.751826  0.834108  0.190944   \n",
       "281144 -2.208002  1.058733 -1.632333  ...  0.583276 -0.269209 -0.456108   \n",
       "281674  0.223050 -0.068384  0.577829  ... -0.164350 -0.295135 -0.072173   \n",
       "\n",
       "             V24       V25       V26       V27       V28  Amount  Class  \n",
       "279863 -0.294885  0.537503  0.788395  0.292680  0.147968  390.00      1  \n",
       "280143 -0.081049  0.521875  0.739467  0.389152  0.186637    0.76      1  \n",
       "280149  0.032070 -0.739695  0.471111  0.385107  0.194361   77.89      1  \n",
       "281144 -0.183659 -0.328168  0.606116  0.884876 -0.253700  245.00      1  \n",
       "281674 -0.450261  0.313267 -0.289617  0.002988 -0.015309   42.53      1  \n",
       "\n",
       "[5 rows x 31 columns]"
      ]
     },
     "execution_count": 29,
     "metadata": {},
     "output_type": "execute_result"
    }
   ],
   "source": [
    "new_dataset.tail()"
   ]
  },
  {
   "cell_type": "code",
   "execution_count": 30,
   "id": "e2428225",
   "metadata": {},
   "outputs": [
    {
     "data": {
      "text/plain": [
       "Class\n",
       "0    492\n",
       "1    492\n",
       "Name: count, dtype: int64"
      ]
     },
     "execution_count": 30,
     "metadata": {},
     "output_type": "execute_result"
    }
   ],
   "source": [
    "new_dataset['Class'].value_counts()"
   ]
  },
  {
   "cell_type": "code",
   "execution_count": 31,
   "id": "e434f906",
   "metadata": {},
   "outputs": [
    {
     "data": {
      "text/html": [
       "<div>\n",
       "<style scoped>\n",
       "    .dataframe tbody tr th:only-of-type {\n",
       "        vertical-align: middle;\n",
       "    }\n",
       "\n",
       "    .dataframe tbody tr th {\n",
       "        vertical-align: top;\n",
       "    }\n",
       "\n",
       "    .dataframe thead th {\n",
       "        text-align: right;\n",
       "    }\n",
       "</style>\n",
       "<table border=\"1\" class=\"dataframe\">\n",
       "  <thead>\n",
       "    <tr style=\"text-align: right;\">\n",
       "      <th></th>\n",
       "      <th>Time</th>\n",
       "      <th>V1</th>\n",
       "      <th>V2</th>\n",
       "      <th>V3</th>\n",
       "      <th>V4</th>\n",
       "      <th>V5</th>\n",
       "      <th>V6</th>\n",
       "      <th>V7</th>\n",
       "      <th>V8</th>\n",
       "      <th>V9</th>\n",
       "      <th>...</th>\n",
       "      <th>V20</th>\n",
       "      <th>V21</th>\n",
       "      <th>V22</th>\n",
       "      <th>V23</th>\n",
       "      <th>V24</th>\n",
       "      <th>V25</th>\n",
       "      <th>V26</th>\n",
       "      <th>V27</th>\n",
       "      <th>V28</th>\n",
       "      <th>Amount</th>\n",
       "    </tr>\n",
       "    <tr>\n",
       "      <th>Class</th>\n",
       "      <th></th>\n",
       "      <th></th>\n",
       "      <th></th>\n",
       "      <th></th>\n",
       "      <th></th>\n",
       "      <th></th>\n",
       "      <th></th>\n",
       "      <th></th>\n",
       "      <th></th>\n",
       "      <th></th>\n",
       "      <th></th>\n",
       "      <th></th>\n",
       "      <th></th>\n",
       "      <th></th>\n",
       "      <th></th>\n",
       "      <th></th>\n",
       "      <th></th>\n",
       "      <th></th>\n",
       "      <th></th>\n",
       "      <th></th>\n",
       "      <th></th>\n",
       "    </tr>\n",
       "  </thead>\n",
       "  <tbody>\n",
       "    <tr>\n",
       "      <th>0</th>\n",
       "      <td>93970.288618</td>\n",
       "      <td>-0.070214</td>\n",
       "      <td>-0.035488</td>\n",
       "      <td>0.021729</td>\n",
       "      <td>-0.010289</td>\n",
       "      <td>0.025787</td>\n",
       "      <td>0.016433</td>\n",
       "      <td>0.101988</td>\n",
       "      <td>-0.064952</td>\n",
       "      <td>-0.032812</td>\n",
       "      <td>...</td>\n",
       "      <td>-0.001449</td>\n",
       "      <td>0.020298</td>\n",
       "      <td>-0.036987</td>\n",
       "      <td>-0.006228</td>\n",
       "      <td>-0.00846</td>\n",
       "      <td>0.014519</td>\n",
       "      <td>0.012552</td>\n",
       "      <td>0.003481</td>\n",
       "      <td>-0.020323</td>\n",
       "      <td>104.217175</td>\n",
       "    </tr>\n",
       "    <tr>\n",
       "      <th>1</th>\n",
       "      <td>80746.806911</td>\n",
       "      <td>-4.771948</td>\n",
       "      <td>3.623778</td>\n",
       "      <td>-7.033281</td>\n",
       "      <td>4.542029</td>\n",
       "      <td>-3.151225</td>\n",
       "      <td>-1.397737</td>\n",
       "      <td>-5.568731</td>\n",
       "      <td>0.570636</td>\n",
       "      <td>-2.581123</td>\n",
       "      <td>...</td>\n",
       "      <td>0.372319</td>\n",
       "      <td>0.713588</td>\n",
       "      <td>0.014049</td>\n",
       "      <td>-0.040308</td>\n",
       "      <td>-0.10513</td>\n",
       "      <td>0.041449</td>\n",
       "      <td>0.051648</td>\n",
       "      <td>0.170575</td>\n",
       "      <td>0.075667</td>\n",
       "      <td>122.211321</td>\n",
       "    </tr>\n",
       "  </tbody>\n",
       "</table>\n",
       "<p>2 rows × 30 columns</p>\n",
       "</div>"
      ],
      "text/plain": [
       "               Time        V1        V2        V3        V4        V5  \\\n",
       "Class                                                                   \n",
       "0      93970.288618 -0.070214 -0.035488  0.021729 -0.010289  0.025787   \n",
       "1      80746.806911 -4.771948  3.623778 -7.033281  4.542029 -3.151225   \n",
       "\n",
       "             V6        V7        V8        V9  ...       V20       V21  \\\n",
       "Class                                          ...                       \n",
       "0      0.016433  0.101988 -0.064952 -0.032812  ... -0.001449  0.020298   \n",
       "1     -1.397737 -5.568731  0.570636 -2.581123  ...  0.372319  0.713588   \n",
       "\n",
       "            V22       V23      V24       V25       V26       V27       V28  \\\n",
       "Class                                                                        \n",
       "0     -0.036987 -0.006228 -0.00846  0.014519  0.012552  0.003481 -0.020323   \n",
       "1      0.014049 -0.040308 -0.10513  0.041449  0.051648  0.170575  0.075667   \n",
       "\n",
       "           Amount  \n",
       "Class              \n",
       "0      104.217175  \n",
       "1      122.211321  \n",
       "\n",
       "[2 rows x 30 columns]"
      ]
     },
     "execution_count": 31,
     "metadata": {},
     "output_type": "execute_result"
    }
   ],
   "source": [
    "new_dataset.groupby('Class').mean()"
   ]
  },
  {
   "cell_type": "markdown",
   "id": "b5cfced4",
   "metadata": {},
   "source": [
    "## Model Development "
   ]
  },
  {
   "cell_type": "code",
   "execution_count": 32,
   "id": "2c21ad61",
   "metadata": {},
   "outputs": [],
   "source": [
    "X = new_dataset.drop(columns='Class', axis=1)\n",
    "Y = new_dataset['Class']"
   ]
  },
  {
   "cell_type": "code",
   "execution_count": 34,
   "id": "85451604",
   "metadata": {},
   "outputs": [
    {
     "data": {
      "text/html": [
       "<div>\n",
       "<style scoped>\n",
       "    .dataframe tbody tr th:only-of-type {\n",
       "        vertical-align: middle;\n",
       "    }\n",
       "\n",
       "    .dataframe tbody tr th {\n",
       "        vertical-align: top;\n",
       "    }\n",
       "\n",
       "    .dataframe thead th {\n",
       "        text-align: right;\n",
       "    }\n",
       "</style>\n",
       "<table border=\"1\" class=\"dataframe\">\n",
       "  <thead>\n",
       "    <tr style=\"text-align: right;\">\n",
       "      <th></th>\n",
       "      <th>Time</th>\n",
       "      <th>V1</th>\n",
       "      <th>V2</th>\n",
       "      <th>V3</th>\n",
       "      <th>V4</th>\n",
       "      <th>V5</th>\n",
       "      <th>V6</th>\n",
       "      <th>V7</th>\n",
       "      <th>V8</th>\n",
       "      <th>V9</th>\n",
       "      <th>...</th>\n",
       "      <th>V20</th>\n",
       "      <th>V21</th>\n",
       "      <th>V22</th>\n",
       "      <th>V23</th>\n",
       "      <th>V24</th>\n",
       "      <th>V25</th>\n",
       "      <th>V26</th>\n",
       "      <th>V27</th>\n",
       "      <th>V28</th>\n",
       "      <th>Amount</th>\n",
       "    </tr>\n",
       "  </thead>\n",
       "  <tbody>\n",
       "    <tr>\n",
       "      <th>281863</th>\n",
       "      <td>170478.0</td>\n",
       "      <td>-0.604877</td>\n",
       "      <td>1.337048</td>\n",
       "      <td>0.975155</td>\n",
       "      <td>2.475457</td>\n",
       "      <td>2.204279</td>\n",
       "      <td>2.291555</td>\n",
       "      <td>0.709784</td>\n",
       "      <td>0.617522</td>\n",
       "      <td>-2.465126</td>\n",
       "      <td>...</td>\n",
       "      <td>-0.119672</td>\n",
       "      <td>0.319942</td>\n",
       "      <td>0.844229</td>\n",
       "      <td>-0.450095</td>\n",
       "      <td>-0.732920</td>\n",
       "      <td>0.773378</td>\n",
       "      <td>0.412548</td>\n",
       "      <td>-0.052906</td>\n",
       "      <td>-0.081319</td>\n",
       "      <td>2.28</td>\n",
       "    </tr>\n",
       "    <tr>\n",
       "      <th>269134</th>\n",
       "      <td>163546.0</td>\n",
       "      <td>0.327338</td>\n",
       "      <td>0.147343</td>\n",
       "      <td>-0.100280</td>\n",
       "      <td>-2.050332</td>\n",
       "      <td>0.223306</td>\n",
       "      <td>-0.975126</td>\n",
       "      <td>0.525372</td>\n",
       "      <td>-0.160708</td>\n",
       "      <td>-1.480479</td>\n",
       "      <td>...</td>\n",
       "      <td>-0.069255</td>\n",
       "      <td>0.138596</td>\n",
       "      <td>0.220092</td>\n",
       "      <td>-0.094018</td>\n",
       "      <td>-0.370201</td>\n",
       "      <td>-0.340181</td>\n",
       "      <td>-0.384868</td>\n",
       "      <td>0.017932</td>\n",
       "      <td>0.015844</td>\n",
       "      <td>2.39</td>\n",
       "    </tr>\n",
       "    <tr>\n",
       "      <th>276807</th>\n",
       "      <td>167308.0</td>\n",
       "      <td>-0.742918</td>\n",
       "      <td>0.895237</td>\n",
       "      <td>1.376781</td>\n",
       "      <td>-0.283362</td>\n",
       "      <td>-0.454989</td>\n",
       "      <td>-0.543159</td>\n",
       "      <td>0.068666</td>\n",
       "      <td>0.462693</td>\n",
       "      <td>0.133294</td>\n",
       "      <td>...</td>\n",
       "      <td>-0.176134</td>\n",
       "      <td>-0.075098</td>\n",
       "      <td>-0.309488</td>\n",
       "      <td>-0.020331</td>\n",
       "      <td>-0.001973</td>\n",
       "      <td>-0.318423</td>\n",
       "      <td>-0.529842</td>\n",
       "      <td>0.031764</td>\n",
       "      <td>0.076053</td>\n",
       "      <td>10.00</td>\n",
       "    </tr>\n",
       "    <tr>\n",
       "      <th>144705</th>\n",
       "      <td>86344.0</td>\n",
       "      <td>-1.040132</td>\n",
       "      <td>0.356891</td>\n",
       "      <td>0.912142</td>\n",
       "      <td>0.132454</td>\n",
       "      <td>0.207077</td>\n",
       "      <td>0.074975</td>\n",
       "      <td>-0.015837</td>\n",
       "      <td>0.604615</td>\n",
       "      <td>-0.336793</td>\n",
       "      <td>...</td>\n",
       "      <td>0.061481</td>\n",
       "      <td>0.128091</td>\n",
       "      <td>0.217078</td>\n",
       "      <td>-0.179876</td>\n",
       "      <td>-0.438981</td>\n",
       "      <td>-0.086064</td>\n",
       "      <td>0.375696</td>\n",
       "      <td>-0.017896</td>\n",
       "      <td>-0.008999</td>\n",
       "      <td>40.00</td>\n",
       "    </tr>\n",
       "    <tr>\n",
       "      <th>225598</th>\n",
       "      <td>144313.0</td>\n",
       "      <td>-0.525783</td>\n",
       "      <td>0.650168</td>\n",
       "      <td>-0.406914</td>\n",
       "      <td>-1.034624</td>\n",
       "      <td>3.480982</td>\n",
       "      <td>3.510990</td>\n",
       "      <td>0.486101</td>\n",
       "      <td>0.714986</td>\n",
       "      <td>-0.735388</td>\n",
       "      <td>...</td>\n",
       "      <td>0.298897</td>\n",
       "      <td>-0.379061</td>\n",
       "      <td>-1.043272</td>\n",
       "      <td>-0.266845</td>\n",
       "      <td>0.621983</td>\n",
       "      <td>0.361481</td>\n",
       "      <td>0.495090</td>\n",
       "      <td>-0.150262</td>\n",
       "      <td>-0.149732</td>\n",
       "      <td>1.98</td>\n",
       "    </tr>\n",
       "    <tr>\n",
       "      <th>...</th>\n",
       "      <td>...</td>\n",
       "      <td>...</td>\n",
       "      <td>...</td>\n",
       "      <td>...</td>\n",
       "      <td>...</td>\n",
       "      <td>...</td>\n",
       "      <td>...</td>\n",
       "      <td>...</td>\n",
       "      <td>...</td>\n",
       "      <td>...</td>\n",
       "      <td>...</td>\n",
       "      <td>...</td>\n",
       "      <td>...</td>\n",
       "      <td>...</td>\n",
       "      <td>...</td>\n",
       "      <td>...</td>\n",
       "      <td>...</td>\n",
       "      <td>...</td>\n",
       "      <td>...</td>\n",
       "      <td>...</td>\n",
       "      <td>...</td>\n",
       "    </tr>\n",
       "    <tr>\n",
       "      <th>279863</th>\n",
       "      <td>169142.0</td>\n",
       "      <td>-1.927883</td>\n",
       "      <td>1.125653</td>\n",
       "      <td>-4.518331</td>\n",
       "      <td>1.749293</td>\n",
       "      <td>-1.566487</td>\n",
       "      <td>-2.010494</td>\n",
       "      <td>-0.882850</td>\n",
       "      <td>0.697211</td>\n",
       "      <td>-2.064945</td>\n",
       "      <td>...</td>\n",
       "      <td>1.252967</td>\n",
       "      <td>0.778584</td>\n",
       "      <td>-0.319189</td>\n",
       "      <td>0.639419</td>\n",
       "      <td>-0.294885</td>\n",
       "      <td>0.537503</td>\n",
       "      <td>0.788395</td>\n",
       "      <td>0.292680</td>\n",
       "      <td>0.147968</td>\n",
       "      <td>390.00</td>\n",
       "    </tr>\n",
       "    <tr>\n",
       "      <th>280143</th>\n",
       "      <td>169347.0</td>\n",
       "      <td>1.378559</td>\n",
       "      <td>1.289381</td>\n",
       "      <td>-5.004247</td>\n",
       "      <td>1.411850</td>\n",
       "      <td>0.442581</td>\n",
       "      <td>-1.326536</td>\n",
       "      <td>-1.413170</td>\n",
       "      <td>0.248525</td>\n",
       "      <td>-1.127396</td>\n",
       "      <td>...</td>\n",
       "      <td>0.226138</td>\n",
       "      <td>0.370612</td>\n",
       "      <td>0.028234</td>\n",
       "      <td>-0.145640</td>\n",
       "      <td>-0.081049</td>\n",
       "      <td>0.521875</td>\n",
       "      <td>0.739467</td>\n",
       "      <td>0.389152</td>\n",
       "      <td>0.186637</td>\n",
       "      <td>0.76</td>\n",
       "    </tr>\n",
       "    <tr>\n",
       "      <th>280149</th>\n",
       "      <td>169351.0</td>\n",
       "      <td>-0.676143</td>\n",
       "      <td>1.126366</td>\n",
       "      <td>-2.213700</td>\n",
       "      <td>0.468308</td>\n",
       "      <td>-1.120541</td>\n",
       "      <td>-0.003346</td>\n",
       "      <td>-2.234739</td>\n",
       "      <td>1.210158</td>\n",
       "      <td>-0.652250</td>\n",
       "      <td>...</td>\n",
       "      <td>0.247968</td>\n",
       "      <td>0.751826</td>\n",
       "      <td>0.834108</td>\n",
       "      <td>0.190944</td>\n",
       "      <td>0.032070</td>\n",
       "      <td>-0.739695</td>\n",
       "      <td>0.471111</td>\n",
       "      <td>0.385107</td>\n",
       "      <td>0.194361</td>\n",
       "      <td>77.89</td>\n",
       "    </tr>\n",
       "    <tr>\n",
       "      <th>281144</th>\n",
       "      <td>169966.0</td>\n",
       "      <td>-3.113832</td>\n",
       "      <td>0.585864</td>\n",
       "      <td>-5.399730</td>\n",
       "      <td>1.817092</td>\n",
       "      <td>-0.840618</td>\n",
       "      <td>-2.943548</td>\n",
       "      <td>-2.208002</td>\n",
       "      <td>1.058733</td>\n",
       "      <td>-1.632333</td>\n",
       "      <td>...</td>\n",
       "      <td>0.306271</td>\n",
       "      <td>0.583276</td>\n",
       "      <td>-0.269209</td>\n",
       "      <td>-0.456108</td>\n",
       "      <td>-0.183659</td>\n",
       "      <td>-0.328168</td>\n",
       "      <td>0.606116</td>\n",
       "      <td>0.884876</td>\n",
       "      <td>-0.253700</td>\n",
       "      <td>245.00</td>\n",
       "    </tr>\n",
       "    <tr>\n",
       "      <th>281674</th>\n",
       "      <td>170348.0</td>\n",
       "      <td>1.991976</td>\n",
       "      <td>0.158476</td>\n",
       "      <td>-2.583441</td>\n",
       "      <td>0.408670</td>\n",
       "      <td>1.151147</td>\n",
       "      <td>-0.096695</td>\n",
       "      <td>0.223050</td>\n",
       "      <td>-0.068384</td>\n",
       "      <td>0.577829</td>\n",
       "      <td>...</td>\n",
       "      <td>-0.017652</td>\n",
       "      <td>-0.164350</td>\n",
       "      <td>-0.295135</td>\n",
       "      <td>-0.072173</td>\n",
       "      <td>-0.450261</td>\n",
       "      <td>0.313267</td>\n",
       "      <td>-0.289617</td>\n",
       "      <td>0.002988</td>\n",
       "      <td>-0.015309</td>\n",
       "      <td>42.53</td>\n",
       "    </tr>\n",
       "  </tbody>\n",
       "</table>\n",
       "<p>984 rows × 30 columns</p>\n",
       "</div>"
      ],
      "text/plain": [
       "            Time        V1        V2        V3        V4        V5        V6  \\\n",
       "281863  170478.0 -0.604877  1.337048  0.975155  2.475457  2.204279  2.291555   \n",
       "269134  163546.0  0.327338  0.147343 -0.100280 -2.050332  0.223306 -0.975126   \n",
       "276807  167308.0 -0.742918  0.895237  1.376781 -0.283362 -0.454989 -0.543159   \n",
       "144705   86344.0 -1.040132  0.356891  0.912142  0.132454  0.207077  0.074975   \n",
       "225598  144313.0 -0.525783  0.650168 -0.406914 -1.034624  3.480982  3.510990   \n",
       "...          ...       ...       ...       ...       ...       ...       ...   \n",
       "279863  169142.0 -1.927883  1.125653 -4.518331  1.749293 -1.566487 -2.010494   \n",
       "280143  169347.0  1.378559  1.289381 -5.004247  1.411850  0.442581 -1.326536   \n",
       "280149  169351.0 -0.676143  1.126366 -2.213700  0.468308 -1.120541 -0.003346   \n",
       "281144  169966.0 -3.113832  0.585864 -5.399730  1.817092 -0.840618 -2.943548   \n",
       "281674  170348.0  1.991976  0.158476 -2.583441  0.408670  1.151147 -0.096695   \n",
       "\n",
       "              V7        V8        V9  ...       V20       V21       V22  \\\n",
       "281863  0.709784  0.617522 -2.465126  ... -0.119672  0.319942  0.844229   \n",
       "269134  0.525372 -0.160708 -1.480479  ... -0.069255  0.138596  0.220092   \n",
       "276807  0.068666  0.462693  0.133294  ... -0.176134 -0.075098 -0.309488   \n",
       "144705 -0.015837  0.604615 -0.336793  ...  0.061481  0.128091  0.217078   \n",
       "225598  0.486101  0.714986 -0.735388  ...  0.298897 -0.379061 -1.043272   \n",
       "...          ...       ...       ...  ...       ...       ...       ...   \n",
       "279863 -0.882850  0.697211 -2.064945  ...  1.252967  0.778584 -0.319189   \n",
       "280143 -1.413170  0.248525 -1.127396  ...  0.226138  0.370612  0.028234   \n",
       "280149 -2.234739  1.210158 -0.652250  ...  0.247968  0.751826  0.834108   \n",
       "281144 -2.208002  1.058733 -1.632333  ...  0.306271  0.583276 -0.269209   \n",
       "281674  0.223050 -0.068384  0.577829  ... -0.017652 -0.164350 -0.295135   \n",
       "\n",
       "             V23       V24       V25       V26       V27       V28  Amount  \n",
       "281863 -0.450095 -0.732920  0.773378  0.412548 -0.052906 -0.081319    2.28  \n",
       "269134 -0.094018 -0.370201 -0.340181 -0.384868  0.017932  0.015844    2.39  \n",
       "276807 -0.020331 -0.001973 -0.318423 -0.529842  0.031764  0.076053   10.00  \n",
       "144705 -0.179876 -0.438981 -0.086064  0.375696 -0.017896 -0.008999   40.00  \n",
       "225598 -0.266845  0.621983  0.361481  0.495090 -0.150262 -0.149732    1.98  \n",
       "...          ...       ...       ...       ...       ...       ...     ...  \n",
       "279863  0.639419 -0.294885  0.537503  0.788395  0.292680  0.147968  390.00  \n",
       "280143 -0.145640 -0.081049  0.521875  0.739467  0.389152  0.186637    0.76  \n",
       "280149  0.190944  0.032070 -0.739695  0.471111  0.385107  0.194361   77.89  \n",
       "281144 -0.456108 -0.183659 -0.328168  0.606116  0.884876 -0.253700  245.00  \n",
       "281674 -0.072173 -0.450261  0.313267 -0.289617  0.002988 -0.015309   42.53  \n",
       "\n",
       "[984 rows x 30 columns]"
      ]
     },
     "execution_count": 34,
     "metadata": {},
     "output_type": "execute_result"
    }
   ],
   "source": [
    "X"
   ]
  },
  {
   "cell_type": "code",
   "execution_count": 35,
   "id": "a358f6bb",
   "metadata": {},
   "outputs": [
    {
     "data": {
      "text/plain": [
       "281863    0\n",
       "269134    0\n",
       "276807    0\n",
       "144705    0\n",
       "225598    0\n",
       "         ..\n",
       "279863    1\n",
       "280143    1\n",
       "280149    1\n",
       "281144    1\n",
       "281674    1\n",
       "Name: Class, Length: 984, dtype: int64"
      ]
     },
     "execution_count": 35,
     "metadata": {},
     "output_type": "execute_result"
    }
   ],
   "source": [
    "Y"
   ]
  },
  {
   "cell_type": "code",
   "execution_count": 36,
   "id": "d553948c",
   "metadata": {},
   "outputs": [],
   "source": [
    "X_train, X_test, Y_train, Y_test = train_test_split(X, Y, test_size=0.2, stratify=Y, random_state=2)"
   ]
  },
  {
   "cell_type": "code",
   "execution_count": 37,
   "id": "637ab39b",
   "metadata": {},
   "outputs": [
    {
     "name": "stdout",
     "output_type": "stream",
     "text": [
      "(984, 30) (787, 30) (197, 30)\n"
     ]
    }
   ],
   "source": [
    "print(X.shape, X_train.shape, X_test.shape)"
   ]
  },
  {
   "cell_type": "code",
   "execution_count": 38,
   "id": "94f4a761",
   "metadata": {},
   "outputs": [],
   "source": [
    "model = LogisticRegression()"
   ]
  },
  {
   "cell_type": "code",
   "execution_count": 39,
   "id": "a5d645b8",
   "metadata": {},
   "outputs": [
    {
     "data": {
      "text/html": [
       "<style>#sk-container-id-1 {color: black;}#sk-container-id-1 pre{padding: 0;}#sk-container-id-1 div.sk-toggleable {background-color: white;}#sk-container-id-1 label.sk-toggleable__label {cursor: pointer;display: block;width: 100%;margin-bottom: 0;padding: 0.3em;box-sizing: border-box;text-align: center;}#sk-container-id-1 label.sk-toggleable__label-arrow:before {content: \"▸\";float: left;margin-right: 0.25em;color: #696969;}#sk-container-id-1 label.sk-toggleable__label-arrow:hover:before {color: black;}#sk-container-id-1 div.sk-estimator:hover label.sk-toggleable__label-arrow:before {color: black;}#sk-container-id-1 div.sk-toggleable__content {max-height: 0;max-width: 0;overflow: hidden;text-align: left;background-color: #f0f8ff;}#sk-container-id-1 div.sk-toggleable__content pre {margin: 0.2em;color: black;border-radius: 0.25em;background-color: #f0f8ff;}#sk-container-id-1 input.sk-toggleable__control:checked~div.sk-toggleable__content {max-height: 200px;max-width: 100%;overflow: auto;}#sk-container-id-1 input.sk-toggleable__control:checked~label.sk-toggleable__label-arrow:before {content: \"▾\";}#sk-container-id-1 div.sk-estimator input.sk-toggleable__control:checked~label.sk-toggleable__label {background-color: #d4ebff;}#sk-container-id-1 div.sk-label input.sk-toggleable__control:checked~label.sk-toggleable__label {background-color: #d4ebff;}#sk-container-id-1 input.sk-hidden--visually {border: 0;clip: rect(1px 1px 1px 1px);clip: rect(1px, 1px, 1px, 1px);height: 1px;margin: -1px;overflow: hidden;padding: 0;position: absolute;width: 1px;}#sk-container-id-1 div.sk-estimator {font-family: monospace;background-color: #f0f8ff;border: 1px dotted black;border-radius: 0.25em;box-sizing: border-box;margin-bottom: 0.5em;}#sk-container-id-1 div.sk-estimator:hover {background-color: #d4ebff;}#sk-container-id-1 div.sk-parallel-item::after {content: \"\";width: 100%;border-bottom: 1px solid gray;flex-grow: 1;}#sk-container-id-1 div.sk-label:hover label.sk-toggleable__label {background-color: #d4ebff;}#sk-container-id-1 div.sk-serial::before {content: \"\";position: absolute;border-left: 1px solid gray;box-sizing: border-box;top: 0;bottom: 0;left: 50%;z-index: 0;}#sk-container-id-1 div.sk-serial {display: flex;flex-direction: column;align-items: center;background-color: white;padding-right: 0.2em;padding-left: 0.2em;position: relative;}#sk-container-id-1 div.sk-item {position: relative;z-index: 1;}#sk-container-id-1 div.sk-parallel {display: flex;align-items: stretch;justify-content: center;background-color: white;position: relative;}#sk-container-id-1 div.sk-item::before, #sk-container-id-1 div.sk-parallel-item::before {content: \"\";position: absolute;border-left: 1px solid gray;box-sizing: border-box;top: 0;bottom: 0;left: 50%;z-index: -1;}#sk-container-id-1 div.sk-parallel-item {display: flex;flex-direction: column;z-index: 1;position: relative;background-color: white;}#sk-container-id-1 div.sk-parallel-item:first-child::after {align-self: flex-end;width: 50%;}#sk-container-id-1 div.sk-parallel-item:last-child::after {align-self: flex-start;width: 50%;}#sk-container-id-1 div.sk-parallel-item:only-child::after {width: 0;}#sk-container-id-1 div.sk-dashed-wrapped {border: 1px dashed gray;margin: 0 0.4em 0.5em 0.4em;box-sizing: border-box;padding-bottom: 0.4em;background-color: white;}#sk-container-id-1 div.sk-label label {font-family: monospace;font-weight: bold;display: inline-block;line-height: 1.2em;}#sk-container-id-1 div.sk-label-container {text-align: center;}#sk-container-id-1 div.sk-container {/* jupyter's `normalize.less` sets `[hidden] { display: none; }` but bootstrap.min.css set `[hidden] { display: none !important; }` so we also need the `!important` here to be able to override the default hidden behavior on the sphinx rendered scikit-learn.org. See: https://github.com/scikit-learn/scikit-learn/issues/21755 */display: inline-block !important;position: relative;}#sk-container-id-1 div.sk-text-repr-fallback {display: none;}</style><div id=\"sk-container-id-1\" class=\"sk-top-container\"><div class=\"sk-text-repr-fallback\"><pre>LogisticRegression()</pre><b>In a Jupyter environment, please rerun this cell to show the HTML representation or trust the notebook. <br />On GitHub, the HTML representation is unable to render, please try loading this page with nbviewer.org.</b></div><div class=\"sk-container\" hidden><div class=\"sk-item\"><div class=\"sk-estimator sk-toggleable\"><input class=\"sk-toggleable__control sk-hidden--visually\" id=\"sk-estimator-id-1\" type=\"checkbox\" checked><label for=\"sk-estimator-id-1\" class=\"sk-toggleable__label sk-toggleable__label-arrow\">LogisticRegression</label><div class=\"sk-toggleable__content\"><pre>LogisticRegression()</pre></div></div></div></div></div>"
      ],
      "text/plain": [
       "LogisticRegression()"
      ]
     },
     "execution_count": 39,
     "metadata": {},
     "output_type": "execute_result"
    }
   ],
   "source": [
    "model.fit(X_train, Y_train)"
   ]
  },
  {
   "cell_type": "code",
   "execution_count": 40,
   "id": "0fa0d293",
   "metadata": {},
   "outputs": [],
   "source": [
    "X_train_prediction = model.predict(X_train)\n",
    "training_data_accuracy = accuracy_score(X_train_prediction, Y_train)"
   ]
  },
  {
   "cell_type": "code",
   "execution_count": 41,
   "id": "7cd1662f",
   "metadata": {},
   "outputs": [
    {
     "name": "stdout",
     "output_type": "stream",
     "text": [
      "Accuracy on Training data :  0.9377382465057179\n"
     ]
    }
   ],
   "source": [
    "print('Accuracy on Training data : ', training_data_accuracy)"
   ]
  },
  {
   "cell_type": "code",
   "execution_count": 42,
   "id": "4e26f0ad",
   "metadata": {},
   "outputs": [],
   "source": [
    "X_test_prediction = model.predict(X_test)\n",
    "test_data_accuracy = accuracy_score(X_test_prediction, Y_test)"
   ]
  },
  {
   "cell_type": "code",
   "execution_count": 43,
   "id": "e5653990",
   "metadata": {},
   "outputs": [
    {
     "name": "stdout",
     "output_type": "stream",
     "text": [
      "Accuracy score on Test Data :  0.9187817258883249\n"
     ]
    }
   ],
   "source": [
    "print('Accuracy score on Test Data : ', test_data_accuracy)"
   ]
  },
  {
   "cell_type": "markdown",
   "id": "703fb580",
   "metadata": {},
   "source": [
    "### Aditional Parameters"
   ]
  },
  {
   "cell_type": "markdown",
   "id": "6cdd35b8",
   "metadata": {},
   "source": [
    "#### Correlation Heatmap"
   ]
  },
  {
   "cell_type": "code",
   "execution_count": 46,
   "id": "ec7dd4db",
   "metadata": {},
   "outputs": [
    {
     "data": {
      "image/png": "[encoded data removed]",
      "text/plain": [
       "<Figure size 1200x800 with 2 Axes>"
      ]
     },
     "metadata": {},
     "output_type": "display_data"
    }
   ],
   "source": [
    "plt.figure(figsize=(12, 8))\n",
    "correlation_matrix = data.corr()\n",
    "sns.heatmap(correlation_matrix, cmap='coolwarm', annot=False, fmt=\".2f\")\n",
    "plt.title('Correlation Heatmap for Fraud Detection Features')\n",
    "plt.show()"
   ]
  },
  {
   "cell_type": "markdown",
   "id": "f16c68f0",
   "metadata": {},
   "source": [
    "#### Feature Importances for Fraud Detection"
   ]
  },
  {
   "cell_type": "code",
   "execution_count": 47,
   "id": "63d39497",
   "metadata": {},
   "outputs": [
    {
     "data": {
      "image/png": "[encoded data removed]",
      "text/plain": [
       "<Figure size 1000x600 with 1 Axes>"
      ]
     },
     "metadata": {},
     "output_type": "display_data"
    }
   ],
   "source": [
    "from sklearn.ensemble import RandomForestClassifier\n",
    "\n",
    "rf_model = RandomForestClassifier(random_state=2)\n",
    "rf_model.fit(X_train, Y_train)\n",
    "\n",
    "importances = rf_model.feature_importances_\n",
    "feature_importance_df = pd.DataFrame({'Feature': X.columns, 'Importance': importances})\n",
    "feature_importance_df = feature_importance_df.sort_values(by='Importance', ascending=False)\n",
    "\n",
    "plt.figure(figsize=(10, 6))\n",
    "sns.barplot(x='Importance', y='Feature', data=feature_importance_df.head(10), palette='viridis')\n",
    "plt.title('Top 10 Feature Importances for Fraud Detection')\n",
    "plt.show()"
   ]
  },
  {
   "cell_type": "markdown",
   "id": "5d00cd2b",
   "metadata": {},
   "source": [
    "#### Confusion Matrix for Fraud Detection"
   ]
  },
  {
   "cell_type": "code",
   "execution_count": 51,
   "id": "452c8861",
   "metadata": {},
   "outputs": [
    {
     "data": {
      "image/png": "[encoded data removed]",
      "text/plain": [
       "<Figure size 640x480 with 2 Axes>"
      ]
     },
     "metadata": {},
     "output_type": "display_data"
    }
   ],
   "source": [
    "from sklearn.metrics import confusion_matrix, ConfusionMatrixDisplay\n",
    "\n",
    "# Get confusion matrix\n",
    "cm = confusion_matrix(Y_test, X_test_prediction)\n",
    "\n",
    "# Plot confusion matrix\n",
    "disp = ConfusionMatrixDisplay(confusion_matrix=cm, display_labels=['Non-Fraud', 'Fraud'])\n",
    "disp.plot(cmap='viridis')\n",
    "plt.title('Confusion Matrix for Fraud Detection')\n",
    "plt.show()\n"
   ]
  }
 ],
 "metadata": {
  "kernelspec": {
   "display_name": "Python 3 (ipykernel)",
   "language": "python",
   "name": "python3"
  },
  "language_info": {
   "codemirror_mode": {
    "name": "ipython",
    "version": 3
   },
   "file_extension": ".py",
   "mimetype": "text/x-python",
   "name": "python",
   "nbconvert_exporter": "python",
   "pygments_lexer": "ipython3",
   "version": "3.11.6"
  }
 },
 "nbformat": 4,
 "nbformat_minor": 5
}
